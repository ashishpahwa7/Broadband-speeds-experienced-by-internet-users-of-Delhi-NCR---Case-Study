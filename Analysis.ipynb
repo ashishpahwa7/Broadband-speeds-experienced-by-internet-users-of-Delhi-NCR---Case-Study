{
 "cells": [
  {
   "cell_type": "markdown",
   "metadata": {},
   "source": [
    "# Case Study: Broadband Speed experiences of Delhi-NCR's Internet Users"
   ]
  },
  {
   "cell_type": "markdown",
   "metadata": {},
   "source": [
    "## Background"
   ]
  },
  {
   "cell_type": "markdown",
   "metadata": {},
   "source": [
    "<p align=\"center\">\n",
    "India has over 1,98 crore fixed-line broadband subscribers, according to the latest data provided by the Indian Telecom Regulatory Authority (TRAI). Amid the surge in demand for the high-speed internet in wake of the shift to work from home due to the coronavirus outbreak, the government is considering a reduction in the license fee for fixed-line broadband services in the country.\n",
    "</p>\n",
    "<p align=\"center\">\n",
    "As an individual,  you must ensure that you have sufficient speed to not disrupt daily use, even when demand is at its highest. Some customers get lucky and have access to fiber connections of over 1000 Megabits (Mbps) per second while some rural businesses are stuck on 3 to 6Mbps DSL connections. With a growing number of ISPs offering “upto” 50mbps at affordable prices, how do you choose between them ? Just because the speed is advertised, doesn’t mean that’s the speed you’ll be receiving. \n",
    "</p>"
   ]
  },
  {
   "cell_type": "markdown",
   "metadata": {},
   "source": [
    "# Data Source\n",
    "\n",
    "Data for this study has been collected using internet speed test tools - speedtest.net, fast.com , M-Labs and cyberspeed. 122 responders were requested to register their measurement 2-3 times a day when they are closer to their wifi router. It was also ensured that no other devices were consuming a major portion of bandwidth when the measurement was taken."
   ]
  },
  {
   "cell_type": "markdown",
   "metadata": {},
   "source": [
    "# Data Preparation\n",
    "\n",
    "The raw data was exported from MySQL database into a CSV file before loading into the R software. Since the dataset is not very large, it was convenient to identify NULL values using SQL and delete those rows there and then so it's readily available for statistical analysis.  "
   ]
  },
  {
   "cell_type": "markdown",
   "metadata": {},
   "source": [
    "# Load Dependencies"
   ]
  },
  {
   "cell_type": "code",
   "execution_count": 272,
   "metadata": {
    "scrolled": false
   },
   "outputs": [],
   "source": [
    "library(rpivotTable)\n",
    "library(dplyr)\n",
    "library(skimr)\n",
    "library(car)"
   ]
  },
  {
   "cell_type": "markdown",
   "metadata": {},
   "source": [
    "# Load Data"
   ]
  },
  {
   "cell_type": "code",
   "execution_count": 313,
   "metadata": {
    "scrolled": false
   },
   "outputs": [],
   "source": [
    "data = read.csv('isp.csv', header=TRUE)\n",
    "attach(data)"
   ]
  },
  {
   "cell_type": "markdown",
   "metadata": {},
   "source": [
    "# Data Structure"
   ]
  },
  {
   "cell_type": "code",
   "execution_count": 274,
   "metadata": {
    "scrolled": false
   },
   "outputs": [
    {
     "name": "stdout",
     "output_type": "stream",
     "text": [
      "'data.frame':\t237 obs. of  13 variables:\n",
      " $ X                  : int  1 2 3 4 5 6 7 8 9 10 ...\n",
      " $ ip                 : Factor w/ 122 levels \"103.147.151.67\",..: 70 70 70 6 50 6 72 70 39 70 ...\n",
      " $ dl                 : num  49.8 42.5 44.5 25.7 33 ...\n",
      " $ ul                 : num  9.64 9.45 9.08 40.65 10.65 ...\n",
      " $ ping               : num  53 55 49.4 36.6 49.6 ...\n",
      " $ jitter             : num  20.19 25.19 0.69 6.06 186.53 ...\n",
      " $ rawIspInfo.city    : Factor w/ 13 levels \"Bengaluru\",\"Delhi\",..: 4 4 4 2 4 2 2 4 2 4 ...\n",
      " $ rawIspInfo.region  : Factor w/ 8 levels \"Delhi\",\"Haryana\",..: 2 2 2 1 2 1 1 2 1 2 ...\n",
      " $ rawIspInfo.loc     : Factor w/ 16 levels \"12.9719,77.5937\",..: 8 8 8 13 8 13 10 8 13 8 ...\n",
      " $ rawIspInfo.postal  : Factor w/ 15 levels \"110001\",\"110006\",..: 5 5 5 1 5 1 3 5 1 5 ...\n",
      " $ rawIspInfo.hostname: Factor w/ 31 levels \"42-111-10-152.live.vodafone.in\",..: NA NA NA NA 4 NA NA NA NA NA ...\n",
      " $ hour               : int  10 10 10 10 10 10 10 10 11 11 ...\n",
      " $ org                : Factor w/ 6 levels \"Airtel\",\"Den\",..: 1 1 1 3 1 3 1 1 4 1 ...\n"
     ]
    }
   ],
   "source": [
    "str(data)"
   ]
  },
  {
   "cell_type": "markdown",
   "metadata": {},
   "source": [
    "### Key Observations:\n",
    "\n",
    "- 237 observations were collected from 122 unique IP addresses at different hours of day.\n",
    "- There are 13 cities, 8 regions, 16  locations and 15 postal codes in the dataset.\n",
    "- The data consist of measuresments of download speed, upload speed and ping& jitter values obtained at the time \n",
    "  of measurement\n",
    "- Detailed description of each variable is provided in table following this section."
   ]
  },
  {
   "cell_type": "markdown",
   "metadata": {},
   "source": [
    "![title](databaseoverview.png)"
   ]
  },
  {
   "cell_type": "markdown",
   "metadata": {},
   "source": [
    "# Exploratory Data Analysis - First glance of the data"
   ]
  },
  {
   "cell_type": "code",
   "execution_count": 344,
   "metadata": {
    "scrolled": false
   },
   "outputs": [
    {
     "data": {
      "text/html": [
       "<table>\n",
       "<caption>A data.frame: 6 × 13</caption>\n",
       "<thead>\n",
       "\t<tr><th></th><th scope=col>X</th><th scope=col>ip</th><th scope=col>dl</th><th scope=col>ul</th><th scope=col>ping</th><th scope=col>jitter</th><th scope=col>rawIspInfo.city</th><th scope=col>rawIspInfo.region</th><th scope=col>rawIspInfo.loc</th><th scope=col>rawIspInfo.postal</th><th scope=col>rawIspInfo.hostname</th><th scope=col>hour</th><th scope=col>org</th></tr>\n",
       "\t<tr><th></th><th scope=col>&lt;int&gt;</th><th scope=col>&lt;fct&gt;</th><th scope=col>&lt;dbl&gt;</th><th scope=col>&lt;dbl&gt;</th><th scope=col>&lt;dbl&gt;</th><th scope=col>&lt;dbl&gt;</th><th scope=col>&lt;fct&gt;</th><th scope=col>&lt;fct&gt;</th><th scope=col>&lt;fct&gt;</th><th scope=col>&lt;fct&gt;</th><th scope=col>&lt;fct&gt;</th><th scope=col>&lt;int&gt;</th><th scope=col>&lt;fct&gt;</th></tr>\n",
       "</thead>\n",
       "<tbody>\n",
       "\t<tr><th scope=row>1</th><td>1</td><td>171.50.152.185</td><td>49.76</td><td> 9.64</td><td>53.0</td><td> 20.19</td><td>Gurgaon</td><td>Haryana</td><td>28.4601,77.0263</td><td>122004</td><td>NA                                                  </td><td>10</td><td>Airtel </td></tr>\n",
       "\t<tr><th scope=row>2</th><td>2</td><td>171.50.152.185</td><td>42.45</td><td> 9.45</td><td>55.0</td><td> 25.19</td><td>Gurgaon</td><td>Haryana</td><td>28.4601,77.0263</td><td>122004</td><td>NA                                                  </td><td>10</td><td>Airtel </td></tr>\n",
       "\t<tr><th scope=row>3</th><td>3</td><td>171.50.152.185</td><td>44.48</td><td> 9.08</td><td>49.4</td><td>  0.69</td><td>Gurgaon</td><td>Haryana</td><td>28.4601,77.0263</td><td>122004</td><td>NA                                                  </td><td>10</td><td>Airtel </td></tr>\n",
       "\t<tr><th scope=row>4</th><td>4</td><td>103.214.61.58 </td><td>25.69</td><td>40.65</td><td>36.6</td><td>  6.06</td><td>Delhi  </td><td>Delhi  </td><td>28.6519,77.2315</td><td>110001</td><td>NA                                                  </td><td>10</td><td>Excitel</td></tr>\n",
       "\t<tr><th scope=row>5</th><td>5</td><td>122.162.79.5  </td><td>32.98</td><td>10.65</td><td>49.6</td><td>186.53</td><td>Gurgaon</td><td>Haryana</td><td>28.4601,77.0263</td><td>122004</td><td>abts-north-dynamic-005.79.162.122.airtelbroadband.in</td><td>10</td><td>Airtel </td></tr>\n",
       "\t<tr><th scope=row>6</th><td>6</td><td>103.214.61.58 </td><td>23.54</td><td>33.47</td><td>40.7</td><td>  1.94</td><td>Delhi  </td><td>Delhi  </td><td>28.6519,77.2315</td><td>110001</td><td>NA                                                  </td><td>10</td><td>Excitel</td></tr>\n",
       "</tbody>\n",
       "</table>\n"
      ],
      "text/latex": [
       "A data.frame: 6 × 13\n",
       "\\begin{tabular}{r|lllllllllllll}\n",
       "  & X & ip & dl & ul & ping & jitter & rawIspInfo.city & rawIspInfo.region & rawIspInfo.loc & rawIspInfo.postal & rawIspInfo.hostname & hour & org\\\\\n",
       "  & <int> & <fct> & <dbl> & <dbl> & <dbl> & <dbl> & <fct> & <fct> & <fct> & <fct> & <fct> & <int> & <fct>\\\\\n",
       "\\hline\n",
       "\t1 & 1 & 171.50.152.185 & 49.76 &  9.64 & 53.0 &  20.19 & Gurgaon & Haryana & 28.4601,77.0263 & 122004 & NA                                                   & 10 & Airtel \\\\\n",
       "\t2 & 2 & 171.50.152.185 & 42.45 &  9.45 & 55.0 &  25.19 & Gurgaon & Haryana & 28.4601,77.0263 & 122004 & NA                                                   & 10 & Airtel \\\\\n",
       "\t3 & 3 & 171.50.152.185 & 44.48 &  9.08 & 49.4 &   0.69 & Gurgaon & Haryana & 28.4601,77.0263 & 122004 & NA                                                   & 10 & Airtel \\\\\n",
       "\t4 & 4 & 103.214.61.58  & 25.69 & 40.65 & 36.6 &   6.06 & Delhi   & Delhi   & 28.6519,77.2315 & 110001 & NA                                                   & 10 & Excitel\\\\\n",
       "\t5 & 5 & 122.162.79.5   & 32.98 & 10.65 & 49.6 & 186.53 & Gurgaon & Haryana & 28.4601,77.0263 & 122004 & abts-north-dynamic-005.79.162.122.airtelbroadband.in & 10 & Airtel \\\\\n",
       "\t6 & 6 & 103.214.61.58  & 23.54 & 33.47 & 40.7 &   1.94 & Delhi   & Delhi   & 28.6519,77.2315 & 110001 & NA                                                   & 10 & Excitel\\\\\n",
       "\\end{tabular}\n"
      ],
      "text/markdown": [
       "\n",
       "A data.frame: 6 × 13\n",
       "\n",
       "| <!--/--> | X &lt;int&gt; | ip &lt;fct&gt; | dl &lt;dbl&gt; | ul &lt;dbl&gt; | ping &lt;dbl&gt; | jitter &lt;dbl&gt; | rawIspInfo.city &lt;fct&gt; | rawIspInfo.region &lt;fct&gt; | rawIspInfo.loc &lt;fct&gt; | rawIspInfo.postal &lt;fct&gt; | rawIspInfo.hostname &lt;fct&gt; | hour &lt;int&gt; | org &lt;fct&gt; |\n",
       "|---|---|---|---|---|---|---|---|---|---|---|---|---|---|\n",
       "| 1 | 1 | 171.50.152.185 | 49.76 |  9.64 | 53.0 |  20.19 | Gurgaon | Haryana | 28.4601,77.0263 | 122004 | NA                                                   | 10 | Airtel  |\n",
       "| 2 | 2 | 171.50.152.185 | 42.45 |  9.45 | 55.0 |  25.19 | Gurgaon | Haryana | 28.4601,77.0263 | 122004 | NA                                                   | 10 | Airtel  |\n",
       "| 3 | 3 | 171.50.152.185 | 44.48 |  9.08 | 49.4 |   0.69 | Gurgaon | Haryana | 28.4601,77.0263 | 122004 | NA                                                   | 10 | Airtel  |\n",
       "| 4 | 4 | 103.214.61.58  | 25.69 | 40.65 | 36.6 |   6.06 | Delhi   | Delhi   | 28.6519,77.2315 | 110001 | NA                                                   | 10 | Excitel |\n",
       "| 5 | 5 | 122.162.79.5   | 32.98 | 10.65 | 49.6 | 186.53 | Gurgaon | Haryana | 28.4601,77.0263 | 122004 | abts-north-dynamic-005.79.162.122.airtelbroadband.in | 10 | Airtel  |\n",
       "| 6 | 6 | 103.214.61.58  | 23.54 | 33.47 | 40.7 |   1.94 | Delhi   | Delhi   | 28.6519,77.2315 | 110001 | NA                                                   | 10 | Excitel |\n",
       "\n"
      ],
      "text/plain": [
       "  X ip             dl    ul    ping jitter rawIspInfo.city rawIspInfo.region\n",
       "1 1 171.50.152.185 49.76  9.64 53.0  20.19 Gurgaon         Haryana          \n",
       "2 2 171.50.152.185 42.45  9.45 55.0  25.19 Gurgaon         Haryana          \n",
       "3 3 171.50.152.185 44.48  9.08 49.4   0.69 Gurgaon         Haryana          \n",
       "4 4 103.214.61.58  25.69 40.65 36.6   6.06 Delhi           Delhi            \n",
       "5 5 122.162.79.5   32.98 10.65 49.6 186.53 Gurgaon         Haryana          \n",
       "6 6 103.214.61.58  23.54 33.47 40.7   1.94 Delhi           Delhi            \n",
       "  rawIspInfo.loc  rawIspInfo.postal\n",
       "1 28.4601,77.0263 122004           \n",
       "2 28.4601,77.0263 122004           \n",
       "3 28.4601,77.0263 122004           \n",
       "4 28.6519,77.2315 110001           \n",
       "5 28.4601,77.0263 122004           \n",
       "6 28.6519,77.2315 110001           \n",
       "  rawIspInfo.hostname                                  hour org    \n",
       "1 NA                                                   10   Airtel \n",
       "2 NA                                                   10   Airtel \n",
       "3 NA                                                   10   Airtel \n",
       "4 NA                                                   10   Excitel\n",
       "5 abts-north-dynamic-005.79.162.122.airtelbroadband.in 10   Airtel \n",
       "6 NA                                                   10   Excitel"
      ]
     },
     "metadata": {},
     "output_type": "display_data"
    }
   ],
   "source": [
    "head(data)"
   ]
  },
  {
   "cell_type": "markdown",
   "metadata": {},
   "source": [
    "# Summary Statistics"
   ]
  },
  {
   "cell_type": "code",
   "execution_count": 345,
   "metadata": {
    "scrolled": false
   },
   "outputs": [
    {
     "data": {
      "text/plain": [
       "       X                     ip            dl               ul        \n",
       " Min.   :  1   171.50.152.185 : 25   Min.   :  0.48   Min.   :  0.00  \n",
       " 1st Qu.: 60   103.214.61.58  : 13   1st Qu.: 15.69   1st Qu.:  5.77  \n",
       " Median :119   103.211.16.33  :  7   Median : 33.47   Median : 11.98  \n",
       " Mean   :119   122.162.102.255:  6   Mean   : 49.82   Mean   : 32.04  \n",
       " 3rd Qu.:178   183.83.215.40  :  5   3rd Qu.: 63.22   3rd Qu.: 53.09  \n",
       " Max.   :237   203.212.226.146:  5   Max.   :304.23   Max.   :170.56  \n",
       "               (Other)        :176                                    \n",
       "      ping            jitter        rawIspInfo.city     rawIspInfo.region\n",
       " Min.   :  5.00   Min.   :  0.18   Delhi    :158    Delhi        :168    \n",
       " 1st Qu.: 40.60   1st Qu.:  1.62   Gurgaon  : 43    Haryana      : 47    \n",
       " Median : 47.06   Median :  5.63   New Delhi: 10    Telangana    :  9    \n",
       " Mean   : 55.43   Mean   : 40.93   Hyderabad:  9    Rajasthan    :  5    \n",
       " 3rd Qu.: 53.43   3rd Qu.: 26.77   Jaipur   :  5    Uttar Pradesh:  3    \n",
       " Max.   :317.50   Max.   :680.65   Faridabad:  3    Karnataka    :  2    \n",
       "                                   (Other)  :  9    (Other)      :  3    \n",
       "         rawIspInfo.loc rawIspInfo.postal\n",
       " 28.6519,77.2315:132    110001 :142      \n",
       " 28.4601,77.0263: 43    122004 : 43      \n",
       " 28.6114,77.2982: 19    110090 : 19      \n",
       " 28.6358,77.2245: 10    110006 :  7      \n",
       " 28.6453,77.2128:  7    500029 :  6      \n",
       " 17.3968,78.4935:  6    302001 :  5      \n",
       " (Other)        : 20    (Other): 15      \n",
       "                                            rawIspInfo.hostname      hour     \n",
       " broadband.actcorp.in                                 : 10      Min.   : 0.0  \n",
       " abts-north-dynamic-255.102.162.122.airtelbroadband.in:  6      1st Qu.: 8.0  \n",
       " abts-north-dynamic-174.166.56.27.airtelbroadband.in  :  4      Median :14.0  \n",
       " abts-north-dynamic-011.212.64.182.airtelbroadband.in :  3      Mean   :12.6  \n",
       " abts-north-dynamic-025.94.64.182.airtelbroadband.in  :  3      3rd Qu.:17.0  \n",
       " (Other)                                              : 37      Max.   :21.0  \n",
       " NA's                                                 :174                    \n",
       "      org    \n",
       " Airtel :86  \n",
       " Den    : 4  \n",
       " Excitel:62  \n",
       " Hathway:14  \n",
       " Jio    :25  \n",
       " Other  :46  \n",
       "             "
      ]
     },
     "metadata": {},
     "output_type": "display_data"
    }
   ],
   "source": [
    "summary(data)"
   ]
  },
  {
   "cell_type": "markdown",
   "metadata": {},
   "source": [
    "### Key observations:\n",
    "- Mean download speed of the sample is 49.82 Mbps and average upload speed is 32.04\n",
    "- Mean and Median are not close to each other which indicated data is not normally distributed.\n",
    "- Majority of observations were taken in Delhi-NCR.\n",
    "- Sample size of Den, Hathway and Jio responders is very small (<=30) "
   ]
  },
  {
   "cell_type": "markdown",
   "metadata": {},
   "source": [
    "# Data Summary (Grouped by Internet Service Provider)"
   ]
  },
  {
   "cell_type": "code",
   "execution_count": 277,
   "metadata": {
    "scrolled": false
   },
   "outputs": [
    {
     "data": {
      "text/plain": [
       "org: Airtel\n",
       "       X                        ip           dl               ul         \n",
       " Min.   :  1.00   171.50.152.185 :25   Min.   :  0.67   Min.   :  0.000  \n",
       " 1st Qu.: 39.75   122.162.102.255: 6   1st Qu.: 13.88   1st Qu.:  3.430  \n",
       " Median :115.50   27.56.166.174  : 4   Median : 29.48   Median :  8.875  \n",
       " Mean   :107.49   117.99.190.74  : 3   Mean   : 31.75   Mean   : 14.528  \n",
       " 3rd Qu.:154.75   122.162.83.67  : 3   3rd Qu.: 42.27   3rd Qu.:  9.745  \n",
       " Max.   :235.00   182.64.212.11  : 3   Max.   :125.17   Max.   :138.850  \n",
       "                  (Other)        :42                                     \n",
       "      ping            jitter        rawIspInfo.city     rawIspInfo.region\n",
       " Min.   : 45.30   Min.   :  0.27   Gurgaon  :42     Haryana      :45     \n",
       " 1st Qu.: 49.25   1st Qu.:  1.82   Delhi    :38     Delhi        :38     \n",
       " Median : 52.15   Median :  6.89   Faridabad: 3     Uttar Pradesh: 3     \n",
       " Mean   : 63.63   Mean   : 30.31   Meerut   : 2     Karnataka    : 0     \n",
       " 3rd Qu.: 57.27   3rd Qu.: 22.54   Noida    : 1     Maharashtra  : 0     \n",
       " Max.   :317.50   Max.   :315.94   Bengaluru: 0     Quebec       : 0     \n",
       "                                   (Other)  : 0     (Other)      : 0     \n",
       "         rawIspInfo.loc rawIspInfo.postal\n",
       " 28.4601,77.0263:42     122004 :42       \n",
       " 28.6114,77.2982:19     110090 :19       \n",
       " 28.6519,77.2315:12     110001 :12       \n",
       " 28.6453,77.2128: 7     110006 : 7       \n",
       " 28.4112,77.3132: 3     121003 : 3       \n",
       " 28.9048,77.5880: 2     250205 : 2       \n",
       " (Other)        : 1     (Other): 1       \n",
       "                                               rawIspInfo.hostname\n",
       " abts-north-dynamic-255.102.162.122.airtelbroadband.in   : 6      \n",
       " abts-north-dynamic-174.166.56.27.airtelbroadband.in     : 4      \n",
       " abts-north-dynamic-011.212.64.182.airtelbroadband.in    : 3      \n",
       " abts-north-dynamic-025.94.64.182.airtelbroadband.in     : 3      \n",
       " telemedia-north-dynamic-74.190.99.117.airtelbroadband.in: 3      \n",
       " (Other)                                                 :27      \n",
       " NA's                                                    :40      \n",
       "      hour           org    \n",
       " Min.   : 2.0   Airtel :86  \n",
       " 1st Qu.:10.0   Den    : 0  \n",
       " Median :13.0   Excitel: 0  \n",
       " Mean   :12.6   Hathway: 0  \n",
       " 3rd Qu.:16.0   Jio    : 0  \n",
       " Max.   :21.0   Other  : 0  \n",
       "                            \n",
       "------------------------------------------------------------ \n",
       "org: Den\n",
       "       X                        ip          dl              ul       \n",
       " Min.   : 48.00   112.196.153.138:1   Min.   : 0.48   Min.   :0.890  \n",
       " 1st Qu.: 77.25   112.196.159.25 :1   1st Qu.: 4.26   1st Qu.:1.235  \n",
       " Median : 88.50   112.196.182.203:1   Median :11.05   Median :1.585  \n",
       " Mean   : 82.75   47.31.29.211   :1   Mean   :14.68   Mean   :1.545  \n",
       " 3rd Qu.: 94.00   103.147.151.67 :0   3rd Qu.:21.47   3rd Qu.:1.895  \n",
       " Max.   :106.00   103.203.66.72  :0   Max.   :36.15   Max.   :2.120  \n",
       "                  (Other)        :0                                  \n",
       "      ping           jitter        rawIspInfo.city   rawIspInfo.region\n",
       " Min.   :45.80   Min.   :  9.26   Delhi    :4      Delhi      :4      \n",
       " 1st Qu.:47.38   1st Qu.:158.92   Bengaluru:0      Haryana    :0      \n",
       " Median :48.10   Median :242.41   Faridabad:0      Karnataka  :0      \n",
       " Mean   :48.48   Mean   :209.42   Gurgaon  :0      Maharashtra:0      \n",
       " 3rd Qu.:49.20   3rd Qu.:292.90   Hyderabad:0      Quebec     :0      \n",
       " Max.   :51.90   Max.   :343.59   Jaipur   :0      Rajasthan  :0      \n",
       "                                  (Other)  :0      (Other)    :0      \n",
       "         rawIspInfo.loc rawIspInfo.postal\n",
       " 28.6519,77.2315:4      110001 :4        \n",
       " 12.9719,77.5937:0      110006 :0        \n",
       " 17.3968,78.4935:0      110090 :0        \n",
       " 17.4168,78.4384:0      121003 :0        \n",
       " 18.6229,73.8070:0      122004 :0        \n",
       " 19.0728,72.8826:0      134118 :0        \n",
       " (Other)        :0      (Other):0        \n",
       "                                           rawIspInfo.hostname      hour      \n",
       " 42-111-10-152.live.vodafone.in                      :0        Min.   : 7.00  \n",
       " 42-111-11-40.live.vodafone.in                       :0        1st Qu.: 7.00  \n",
       " abts-north-dynamic-001.220.68.182.airtelbroadband.in:0        Median : 7.50  \n",
       " abts-north-dynamic-005.79.162.122.airtelbroadband.in:0        Mean   : 9.75  \n",
       " abts-north-dynamic-011.212.64.182.airtelbroadband.in:0        3rd Qu.:10.25  \n",
       " (Other)                                             :0        Max.   :17.00  \n",
       " NA's                                                :4                       \n",
       "      org   \n",
       " Airtel :0  \n",
       " Den    :4  \n",
       " Excitel:0  \n",
       " Hathway:0  \n",
       " Jio    :0  \n",
       " Other  :0  \n",
       "            \n",
       "------------------------------------------------------------ \n",
       "org: Excitel\n",
       "       X                      ip           dl               ul        \n",
       " Min.   :  4.0   103.214.61.58 :13   Min.   :  0.82   Min.   :  0.11  \n",
       " 1st Qu.: 53.5   103.211.16.33 : 7   1st Qu.: 22.86   1st Qu.: 24.70  \n",
       " Median :102.0   146.196.37.215: 4   Median : 48.61   Median : 51.51  \n",
       " Mean   :110.5   139.5.253.37  : 3   Mean   : 72.75   Mean   : 50.80  \n",
       " 3rd Qu.:164.8   45.118.159.99 : 3   3rd Qu.: 94.92   3rd Qu.: 69.46  \n",
       " Max.   :234.0   103.95.80.177 : 2   Max.   :284.21   Max.   :141.11  \n",
       "                 (Other)       :30                                    \n",
       "      ping            jitter         rawIspInfo.city   rawIspInfo.region\n",
       " Min.   : 35.87   Min.   :  0.180   Delhi    :56     Delhi      :62     \n",
       " 1st Qu.: 38.50   1st Qu.:  1.018   New Delhi: 6     Haryana    : 0     \n",
       " Median : 40.35   Median :  2.050   Bengaluru: 0     Karnataka  : 0     \n",
       " Mean   : 42.79   Mean   : 31.086   Faridabad: 0     Maharashtra: 0     \n",
       " 3rd Qu.: 43.24   3rd Qu.: 14.155   Gurgaon  : 0     Quebec     : 0     \n",
       " Max.   :135.20   Max.   :401.100   Hyderabad: 0     Rajasthan  : 0     \n",
       "                                    (Other)  : 0     (Other)    : 0     \n",
       "         rawIspInfo.loc rawIspInfo.postal\n",
       " 28.6519,77.2315:56     110001 :62       \n",
       " 28.6358,77.2245: 6     110006 : 0       \n",
       " 12.9719,77.5937: 0     110090 : 0       \n",
       " 17.3968,78.4935: 0     121003 : 0       \n",
       " 17.4168,78.4384: 0     122004 : 0       \n",
       " 18.6229,73.8070: 0     134118 : 0       \n",
       " (Other)        : 0     (Other): 0       \n",
       "                                           rawIspInfo.hostname      hour      \n",
       " 42-111-10-152.live.vodafone.in                      : 0       Min.   : 0.00  \n",
       " 42-111-11-40.live.vodafone.in                       : 0       1st Qu.: 7.25  \n",
       " abts-north-dynamic-001.220.68.182.airtelbroadband.in: 0       Median :13.00  \n",
       " abts-north-dynamic-005.79.162.122.airtelbroadband.in: 0       Mean   :12.05  \n",
       " abts-north-dynamic-011.212.64.182.airtelbroadband.in: 0       3rd Qu.:16.75  \n",
       " (Other)                                             : 0       Max.   :21.00  \n",
       " NA's                                                :62                      \n",
       "      org    \n",
       " Airtel : 0  \n",
       " Den    : 0  \n",
       " Excitel:62  \n",
       " Hathway: 0  \n",
       " Jio    : 0  \n",
       " Other  : 0  \n",
       "             \n",
       "------------------------------------------------------------ \n",
       "org: Hathway\n",
       "       X                       ip          dl              ul        \n",
       " Min.   :  9.0   203.212.226.146:5   Min.   : 5.50   Min.   : 1.610  \n",
       " 1st Qu.: 74.5   116.73.47.101  :3   1st Qu.:17.13   1st Qu.: 4.457  \n",
       " Median :148.5   115.97.115.60  :2   Median :24.49   Median : 5.265  \n",
       " Mean   :144.9   116.73.40.230  :2   Mean   :28.87   Mean   : 6.886  \n",
       " 3rd Qu.:220.2   116.72.210.195 :1   3rd Qu.:46.72   3rd Qu.: 6.915  \n",
       " Max.   :224.0   125.99.206.76  :1   Max.   :50.69   Max.   :27.750  \n",
       "                 (Other)        :0                                   \n",
       "      ping           jitter        rawIspInfo.city   rawIspInfo.region\n",
       " Min.   :37.33   Min.   : 1.050   Delhi    :14     Delhi      :14     \n",
       " 1st Qu.:46.95   1st Qu.: 2.185   Bengaluru: 0     Haryana    : 0     \n",
       " Median :49.15   Median : 4.565   Faridabad: 0     Karnataka  : 0     \n",
       " Mean   :51.74   Mean   : 8.636   Gurgaon  : 0     Maharashtra: 0     \n",
       " 3rd Qu.:57.20   3rd Qu.:10.255   Hyderabad: 0     Quebec     : 0     \n",
       " Max.   :73.89   Max.   :48.370   Jaipur   : 0     Rajasthan  : 0     \n",
       "                                  (Other)  : 0     (Other)    : 0     \n",
       "         rawIspInfo.loc rawIspInfo.postal\n",
       " 28.6519,77.2315:14     110001 :14       \n",
       " 12.9719,77.5937: 0     110006 : 0       \n",
       " 17.3968,78.4935: 0     110090 : 0       \n",
       " 17.4168,78.4384: 0     121003 : 0       \n",
       " 18.6229,73.8070: 0     122004 : 0       \n",
       " 19.0728,72.8826: 0     134118 : 0       \n",
       " (Other)        : 0     (Other): 0       \n",
       "                                           rawIspInfo.hostname      hour      \n",
       " 42-111-10-152.live.vodafone.in                      : 0       Min.   : 4.00  \n",
       " 42-111-11-40.live.vodafone.in                       : 0       1st Qu.: 4.75  \n",
       " abts-north-dynamic-001.220.68.182.airtelbroadband.in: 0       Median :12.50  \n",
       " abts-north-dynamic-005.79.162.122.airtelbroadband.in: 0       Mean   :11.71  \n",
       " abts-north-dynamic-011.212.64.182.airtelbroadband.in: 0       3rd Qu.:17.00  \n",
       " (Other)                                             : 0       Max.   :21.00  \n",
       " NA's                                                :14                      \n",
       "      org    \n",
       " Airtel : 0  \n",
       " Den    : 0  \n",
       " Excitel: 0  \n",
       " Hathway:14  \n",
       " Jio    : 0  \n",
       " Other  : 0  \n",
       "             \n",
       "------------------------------------------------------------ \n",
       "org: Jio\n",
       "       X                     ip          dl               ul        \n",
       " Min.   : 15.0   49.36.146.218:4   Min.   :  6.93   Min.   :  0.45  \n",
       " 1st Qu.:123.0   49.36.131.174:3   1st Qu.: 30.05   1st Qu.: 13.43  \n",
       " Median :186.0   49.36.133.169:3   Median : 89.30   Median : 59.08  \n",
       " Mean   :158.9   49.36.131.185:2   Mean   :101.65   Mean   : 56.80  \n",
       " 3rd Qu.:220.0   49.36.135.57 :2   3rd Qu.:135.34   3rd Qu.: 81.82  \n",
       " Max.   :237.0   49.36.140.1  :2   Max.   :304.23   Max.   :170.56  \n",
       "                 (Other)      :9                                    \n",
       "      ping            jitter        rawIspInfo.city   rawIspInfo.region\n",
       " Min.   : 36.00   Min.   :  1.06   Delhi    :20     Delhi      :20     \n",
       " 1st Qu.: 40.00   1st Qu.:  1.93   Jaipur   : 4     Rajasthan  : 4     \n",
       " Median : 44.30   Median :  3.79   Gurgaon  : 1     Haryana    : 1     \n",
       " Mean   : 50.45   Mean   : 19.95   Bengaluru: 0     Karnataka  : 0     \n",
       " 3rd Qu.: 48.38   3rd Qu.: 18.85   Faridabad: 0     Maharashtra: 0     \n",
       " Max.   :110.00   Max.   :147.67   Hyderabad: 0     Quebec     : 0     \n",
       "                                   (Other)  : 0     (Other)    : 0     \n",
       "         rawIspInfo.loc rawIspInfo.postal\n",
       " 28.6519,77.2315:20     110001 :20       \n",
       " 26.9196,75.7878: 4     302001 : 4       \n",
       " 28.4601,77.0263: 1     122004 : 1       \n",
       " 12.9719,77.5937: 0     110006 : 0       \n",
       " 17.3968,78.4935: 0     110090 : 0       \n",
       " 17.4168,78.4384: 0     121003 : 0       \n",
       " (Other)        : 0     (Other): 0       \n",
       "                                           rawIspInfo.hostname      hour      \n",
       " 42-111-10-152.live.vodafone.in                      : 0       Min.   : 2.00  \n",
       " 42-111-11-40.live.vodafone.in                       : 0       1st Qu.:10.00  \n",
       " abts-north-dynamic-001.220.68.182.airtelbroadband.in: 0       Median :17.00  \n",
       " abts-north-dynamic-005.79.162.122.airtelbroadband.in: 0       Mean   :14.48  \n",
       " abts-north-dynamic-011.212.64.182.airtelbroadband.in: 0       3rd Qu.:18.00  \n",
       " (Other)                                             : 0       Max.   :20.00  \n",
       " NA's                                                :25                      \n",
       "      org    \n",
       " Airtel : 0  \n",
       " Den    : 0  \n",
       " Excitel: 0  \n",
       " Hathway: 0  \n",
       " Jio    :25  \n",
       " Other  : 0  \n",
       "             \n",
       "------------------------------------------------------------ \n",
       "org: Other\n",
       "       X                       ip           dl               ul        \n",
       " Min.   : 13.00   183.83.215.40 : 5   Min.   :  1.02   Min.   :  0.00  \n",
       " 1st Qu.: 78.25   103.248.95.101: 3   1st Qu.: 10.71   1st Qu.: 12.15  \n",
       " Median :131.50   183.83.40.122 : 3   Median : 20.25   Median : 25.08  \n",
       " Mean   :125.57   103.248.95.196: 2   Mean   : 33.98   Mean   : 36.32  \n",
       " 3rd Qu.:171.75   103.254.205.86: 2   3rd Qu.: 41.80   3rd Qu.: 48.00  \n",
       " Max.   :236.00   103.68.31.207 : 2   Max.   :105.94   Max.   :137.37  \n",
       "                  (Other)       :29                                    \n",
       "      ping            jitter         rawIspInfo.city   rawIspInfo.region\n",
       " Min.   :  5.00   Min.   :  0.340   Delhi    :26     Delhi      :30     \n",
       " 1st Qu.: 40.08   1st Qu.:  3.467   Hyderabad: 9     Telangana  : 9     \n",
       " Median : 43.08   Median : 14.245   New Delhi: 4     Karnataka  : 2     \n",
       " Mean   : 61.60   Mean   : 80.620   Bengaluru: 2     Maharashtra: 2     \n",
       " 3rd Qu.: 49.54   3rd Qu.: 81.487   Jaipur   : 1     Haryana    : 1     \n",
       " Max.   :298.50   Max.   :680.650   Montréal : 1     Quebec     : 1     \n",
       "                                    (Other)  : 3     (Other)    : 1     \n",
       "         rawIspInfo.loc rawIspInfo.postal\n",
       " 28.6519,77.2315:26     110001 :30       \n",
       " 17.3968,78.4935: 6     500029 : 6       \n",
       " 28.6358,77.2245: 4     500034 : 3       \n",
       " 17.4168,78.4384: 3     560002 : 2       \n",
       " 12.9719,77.5937: 2     134118 : 1       \n",
       " 18.6229,73.8070: 1     302001 : 1       \n",
       " (Other)        : 4     (Other): 3       \n",
       "                     rawIspInfo.hostname      hour            org    \n",
       " broadband.actcorp.in          :10       Min.   : 2.00   Airtel : 0  \n",
       " dhcp-192-236-183.in2cable.com : 2       1st Qu.: 7.25   Den    : 0  \n",
       " 42-111-10-152.live.vodafone.in: 1       Median :14.00   Excitel: 0  \n",
       " 42-111-11-40.live.vodafone.in : 1       Mean   :12.83   Hathway: 0  \n",
       " dhcp-192-214-64.in2cable.com  : 1       3rd Qu.:17.75   Jio    : 0  \n",
       " (Other)                       : 2       Max.   :20.00   Other  :46  \n",
       " NA's                          :29                                   "
      ]
     },
     "metadata": {},
     "output_type": "display_data"
    }
   ],
   "source": [
    "by(data, INDICES=org, FUN=summary)"
   ]
  },
  {
   "cell_type": "markdown",
   "metadata": {},
   "source": [
    "# Key Observations\n",
    "\n",
    "Following tables depict the 5 number summary of download and upload speeds.\n",
    "\n",
    "\n",
    "![title](5_number_summary_dl.png)\n",
    "![title](5_number_summary_upload.png)\n",
    "\n",
    "\n",
    "\n",
    "##### Important Note\n",
    "\n",
    "It is important to note that this summary statistics depict the observed download and upload speeds by responders. It may or may not represent the actual performance delivered by respective internet service providers. However for the sake of this analysis, it will be assumed that these numbers alteast represent how the performance is percieved by responders."
   ]
  },
  {
   "cell_type": "markdown",
   "metadata": {},
   "source": [
    "## Visual Insights"
   ]
  },
  {
   "cell_type": "markdown",
   "metadata": {},
   "source": [
    "### Download Speed "
   ]
  },
  {
   "cell_type": "code",
   "execution_count": 278,
   "metadata": {
    "scrolled": false
   },
   "outputs": [
    {
     "data": {
      "image/png": "[encoded data removed]",
      "text/plain": [
       "Plot with title “Histogram of dl”"
      ]
     },
     "metadata": {
      "image/png": {
       "height": 420,
       "width": 420
      }
     },
     "output_type": "display_data"
    },
    {
     "data": {
      "image/png": "[encoded data removed]",
      "text/plain": [
       "Plot with title “Boxplot of Download Speed”"
      ]
     },
     "metadata": {
      "image/png": {
       "height": 420,
       "width": 420
      }
     },
     "output_type": "display_data"
    }
   ],
   "source": [
    "hist(dl, col=\"blue\",breaks = 100, xlab = \"Download Speed (Mbps)\")\n",
    "boxplot(dl, horizontal = TRUE, col=\"grey\", main=\"Boxplot of Download Speed\")"
   ]
  },
  {
   "cell_type": "markdown",
   "metadata": {},
   "source": [
    "### Key Obseravtions"
   ]
  },
  {
   "cell_type": "markdown",
   "metadata": {},
   "source": [
    "- The median download speed of the observed sample is 33.47 (IQR=15.69-63.22) Mbps.\n",
    "- The distribution is skewed towards left.\n",
    "- Only a very small fraction of reponders in the sample have access to comparatively higher bandwidth connection (Fibre)"
   ]
  },
  {
   "cell_type": "markdown",
   "metadata": {},
   "source": [
    "## Upload Speed"
   ]
  },
  {
   "cell_type": "code",
   "execution_count": 346,
   "metadata": {},
   "outputs": [
    {
     "data": {
      "image/png": "[encoded data removed]",
      "text/plain": [
       "Plot with title “Histogram of ul”"
      ]
     },
     "metadata": {
      "image/png": {
       "height": 420,
       "width": 420
      }
     },
     "output_type": "display_data"
    },
    {
     "data": {
      "image/png": "[encoded data removed]",
      "text/plain": [
       "Plot with title “Boxplot of Upload Speed”"
      ]
     },
     "metadata": {
      "image/png": {
       "height": 420,
       "width": 420
      }
     },
     "output_type": "display_data"
    }
   ],
   "source": [
    "hist(ul, col=\"blue\",breaks = 100, xlab = \"Upload Speed (Mbps)\")\n",
    "boxplot(ul, horizontal = TRUE, col=\"grey\", main=\"Boxplot of Upload Speed\")"
   ]
  },
  {
   "cell_type": "markdown",
   "metadata": {},
   "source": [
    "### Key observations"
   ]
  },
  {
   "cell_type": "markdown",
   "metadata": {},
   "source": [
    "- The median upload speed of the observed sample is 11.98 (IQR=5.77-53.09) Mbps.\n",
    "- A small fraction of responders have access to high upload speed broadband."
   ]
  },
  {
   "cell_type": "markdown",
   "metadata": {},
   "source": [
    "## Comparitive Analysis: Download and Upload Speed"
   ]
  },
  {
   "cell_type": "code",
   "execution_count": 280,
   "metadata": {
    "scrolled": false
   },
   "outputs": [
    {
     "data": {
      "image/png": "[encoded data removed]",
      "text/plain": [
       "Plot with title “Download Vs Upload Speed”"
      ]
     },
     "metadata": {
      "image/png": {
       "height": 420,
       "width": 420
      }
     },
     "output_type": "display_data"
    }
   ],
   "source": [
    "boxplot(dl, ul, main=\"Download Vs Upload Speed\", names = c(\"Download\", \"Upload\"))"
   ]
  },
  {
   "cell_type": "markdown",
   "metadata": {},
   "source": [
    "### Key Observations"
   ]
  },
  {
   "cell_type": "markdown",
   "metadata": {},
   "source": [
    "- It seems like responders receive higher download speeds as compared to upload speeds.\n",
    "- It is observed that the overall spread of both download and upload speeds is nearly equivalent. IQR(Download) = 47.53 and IQR(Upload) = 47.32"
   ]
  },
  {
   "cell_type": "markdown",
   "metadata": {},
   "source": [
    "# Download Speed Vs ISP"
   ]
  },
  {
   "cell_type": "markdown",
   "metadata": {},
   "source": [
    "![title](isp_dl.png)"
   ]
  },
  {
   "cell_type": "code",
   "execution_count": 347,
   "metadata": {},
   "outputs": [
    {
     "data": {
      "image/png": "[encoded data removed]",
      "text/plain": [
       "Plot with title “Comparitive Boxplot of Download Speeds”"
      ]
     },
     "metadata": {
      "image/png": {
       "height": 420,
       "width": 420
      }
     },
     "output_type": "display_data"
    }
   ],
   "source": [
    "boxplot(dl ~ org, horizontal = TRUE, col=\"grey\", main=\"Comparitive Boxplot of Download Speeds\")"
   ]
  },
  {
   "cell_type": "markdown",
   "metadata": {},
   "source": [
    "### Key Observations:\n",
    "\n",
    "- Based on the visual inspection, it looks like Jio is the clear winner in terms of offering high download speeds to its subscribers. Excitel follows Jio by offering 48.03 Mbps (Median) to a large proportion of its customers.\n",
    "- Den, Hathway and Others might be closely competing with Airtel, however let’s see we have sufficient evidence to support this claim.\n",
    "- Although Jio and Excitel subscribers enjoy higher download bandwidths, their distributions are more scattered as compared to their competitors. This could be both good and bad depending on which of the following is True:\n",
    "\n",
    "    - Jio and Excitel Subscribers have diverse choices of plans to choose from as compared to their competitors.\n",
    "    - High degree of spread is an indicator of inconsistent performance which may lead to reduced customer satisfaction\n",
    "\n",
    "![title](mad.png)\n",
    "\n",
    "- The table above illustrates the IQR and Mean Absolute Deviations of download speeds offered by internet service providers. It is clear that a comparatively higher degree of variation is associated with Jio and Excitel download speeds, where as Airtel and Den are more. consistent"
   ]
  },
  {
   "cell_type": "markdown",
   "metadata": {},
   "source": [
    "# Upload Speed Vs ISP"
   ]
  },
  {
   "cell_type": "markdown",
   "metadata": {},
   "source": [
    "![title](upload_isp.png)"
   ]
  },
  {
   "cell_type": "code",
   "execution_count": 281,
   "metadata": {
    "scrolled": false
   },
   "outputs": [
    {
     "data": {
      "image/png": "[encoded data removed]",
      "text/plain": [
       "Plot with title “Comparitive Boxplot of Download Speeds”"
      ]
     },
     "metadata": {
      "image/png": {
       "height": 420,
       "width": 420
      }
     },
     "output_type": "display_data"
    }
   ],
   "source": [
    "boxplot(ul ~ org, horizontal = TRUE, col=\"grey\", main=\"Comparitive Boxplot of Download Speeds\")"
   ]
  },
  {
   "cell_type": "markdown",
   "metadata": {},
   "source": [
    "### Key Observations"
   ]
  },
  {
   "cell_type": "markdown",
   "metadata": {},
   "source": [
    "- It seems like Excitel and Jio offer relatively higher upload speeds\n",
    "- It looks like Airtel and others are capable of competing with Jio and Excitel's performance however only a small portion of responders in the sample have access to that bandwidth (Which are illustrated as outliers) (Is that because of high price?)"
   ]
  },
  {
   "cell_type": "markdown",
   "metadata": {},
   "source": [
    "# Median Absolute Deviation - Upload Speed (Sample)"
   ]
  },
  {
   "cell_type": "code",
   "execution_count": 349,
   "metadata": {
    "scrolled": false
   },
   "outputs": [
    {
     "data": {
      "text/html": [
       "<table>\n",
       "<caption>A data.frame: 6 × 2</caption>\n",
       "<thead>\n",
       "\t<tr><th scope=col>Category</th><th scope=col>x</th></tr>\n",
       "\t<tr><th scope=col>&lt;fct&gt;</th><th scope=col>&lt;dbl&gt;</th></tr>\n",
       "</thead>\n",
       "<tbody>\n",
       "\t<tr><td>Airtel </td><td> 4.151280</td></tr>\n",
       "\t<tr><td>Den    </td><td> 0.570801</td></tr>\n",
       "\t<tr><td>Excitel</td><td>33.032328</td></tr>\n",
       "\t<tr><td>Hathway</td><td> 2.424051</td></tr>\n",
       "\t<tr><td>Jio    </td><td>66.198090</td></tr>\n",
       "\t<tr><td>Other  </td><td>21.416157</td></tr>\n",
       "</tbody>\n",
       "</table>\n"
      ],
      "text/latex": [
       "A data.frame: 6 × 2\n",
       "\\begin{tabular}{ll}\n",
       " Category & x\\\\\n",
       " <fct> & <dbl>\\\\\n",
       "\\hline\n",
       "\t Airtel  &  4.151280\\\\\n",
       "\t Den     &  0.570801\\\\\n",
       "\t Excitel & 33.032328\\\\\n",
       "\t Hathway &  2.424051\\\\\n",
       "\t Jio     & 66.198090\\\\\n",
       "\t Other   & 21.416157\\\\\n",
       "\\end{tabular}\n"
      ],
      "text/markdown": [
       "\n",
       "A data.frame: 6 × 2\n",
       "\n",
       "| Category &lt;fct&gt; | x &lt;dbl&gt; |\n",
       "|---|---|\n",
       "| Airtel  |  4.151280 |\n",
       "| Den     |  0.570801 |\n",
       "| Excitel | 33.032328 |\n",
       "| Hathway |  2.424051 |\n",
       "| Jio     | 66.198090 |\n",
       "| Other   | 21.416157 |\n",
       "\n"
      ],
      "text/plain": [
       "  Category x        \n",
       "1 Airtel    4.151280\n",
       "2 Den       0.570801\n",
       "3 Excitel  33.032328\n",
       "4 Hathway   2.424051\n",
       "5 Jio      66.198090\n",
       "6 Other    21.416157"
      ]
     },
     "metadata": {},
     "output_type": "display_data"
    }
   ],
   "source": [
    "aggregate(ul, by=list(Category=org), FUN=mad)"
   ]
  },
  {
   "cell_type": "markdown",
   "metadata": {},
   "source": [
    "### Key Observations\n",
    "\n",
    "- The case of upload speeds is not very different from variations observed in download speed. Upload speeds of Jio and Excitel are more spreaded aas compared to Airtel, Hathway and Den."
   ]
  },
  {
   "cell_type": "markdown",
   "metadata": {},
   "source": [
    "## Download Speed Vs Hour"
   ]
  },
  {
   "cell_type": "markdown",
   "metadata": {},
   "source": [
    "![title](speed_hour.png)"
   ]
  },
  {
   "cell_type": "markdown",
   "metadata": {},
   "source": [
    "## Upload Speed Vs Hour"
   ]
  },
  {
   "cell_type": "markdown",
   "metadata": {},
   "source": [
    "![title](upload_speed_hour.png)"
   ]
  },
  {
   "cell_type": "markdown",
   "metadata": {},
   "source": [
    "### Key Observations\n",
    "\n",
    "- Download Speeds were at the peak during 6 AM in the morning and 1 PM in the afternoon (Why so?)\n",
    "- Upload speeds were at peak during 4,6 and 16 hour.\n",
    "- Further investigation may be required to understand the effect of hour of day on download and upload speed using suitable statistical techniques. "
   ]
  },
  {
   "cell_type": "markdown",
   "metadata": {},
   "source": [
    "## Association between Download and Upload Speed - Pearson's product-moment correlation\n",
    "\n",
    "The correlation test is used to test whether the correlation (denoted ρ) between 2 variables is significantly different from 0 or not."
   ]
  },
  {
   "cell_type": "code",
   "execution_count": 354,
   "metadata": {
    "scrolled": false
   },
   "outputs": [
    {
     "data": {
      "text/plain": [
       "\n",
       "\tPearson's product-moment correlation\n",
       "\n",
       "data:  dl and ul\n",
       "t = 14.369, df = 235, p-value < 2.2e-16\n",
       "alternative hypothesis: true correlation is not equal to 0\n",
       "95 percent confidence interval:\n",
       " 0.6095772 0.7462783\n",
       "sample estimates:\n",
       "      cor \n",
       "0.6838843 \n"
      ]
     },
     "metadata": {},
     "output_type": "display_data"
    },
    {
     "data": {
      "text/plain": [
       "\n",
       "\tPearson's product-moment correlation\n",
       "\n",
       "data:  data[data$org == \"Airtel\", ]$dl and data[data$org == \"Airtel\", ]$ul\n",
       "t = 9.0008, df = 84, p-value = 5.911e-14\n",
       "alternative hypothesis: true correlation is not equal to 0\n",
       "95 percent confidence interval:\n",
       " 0.5740246 0.7945940\n",
       "sample estimates:\n",
       "      cor \n",
       "0.7006819 \n"
      ]
     },
     "metadata": {},
     "output_type": "display_data"
    },
    {
     "data": {
      "text/plain": [
       "\n",
       "\tPearson's product-moment correlation\n",
       "\n",
       "data:  data[data$org == \"Jio\", ]$dl and data[data$org == \"Jio\", ]$ul\n",
       "t = 9.4803, df = 23, p-value = 2.072e-09\n",
       "alternative hypothesis: true correlation is not equal to 0\n",
       "95 percent confidence interval:\n",
       " 0.7679616 0.9518467\n",
       "sample estimates:\n",
       "      cor \n",
       "0.8923216 \n"
      ]
     },
     "metadata": {},
     "output_type": "display_data"
    },
    {
     "data": {
      "text/plain": [
       "\n",
       "\tPearson's product-moment correlation\n",
       "\n",
       "data:  data[data$org == \"Excitel\", ]$dl and data[data$org == \"Excitel\", ]$ul\n",
       "t = 4.1702, df = 60, p-value = 9.945e-05\n",
       "alternative hypothesis: true correlation is not equal to 0\n",
       "95 percent confidence interval:\n",
       " 0.2543888 0.6471799\n",
       "sample estimates:\n",
       "      cor \n",
       "0.4740375 \n"
      ]
     },
     "metadata": {},
     "output_type": "display_data"
    },
    {
     "data": {
      "text/plain": [
       "\n",
       "\tPearson's product-moment correlation\n",
       "\n",
       "data:  data[data$org == \"Den\", ]$dl and data[data$org == \"Den\", ]$ul\n",
       "t = 0.93063, df = 2, p-value = 0.4503\n",
       "alternative hypothesis: true correlation is not equal to 0\n",
       "95 percent confidence interval:\n",
       " -0.8721512  0.9885351\n",
       "sample estimates:\n",
       "      cor \n",
       "0.5497106 \n"
      ]
     },
     "metadata": {},
     "output_type": "display_data"
    },
    {
     "data": {
      "text/plain": [
       "\n",
       "\tPearson's product-moment correlation\n",
       "\n",
       "data:  data[data$org == \"Hathway\", ]$dl and data[data$org == \"Hathway\", ]$ul\n",
       "t = 0.74551, df = 12, p-value = 0.4703\n",
       "alternative hypothesis: true correlation is not equal to 0\n",
       "95 percent confidence interval:\n",
       " -0.3604210  0.6665634\n",
       "sample estimates:\n",
       "      cor \n",
       "0.2103923 \n"
      ]
     },
     "metadata": {},
     "output_type": "display_data"
    },
    {
     "data": {
      "text/plain": [
       "\n",
       "\tPearson's product-moment correlation\n",
       "\n",
       "data:  data[data$org == \"Other\", ]$dl and data[data$org == \"Other\", ]$ul\n",
       "t = 8.6037, df = 44, p-value = 5.575e-11\n",
       "alternative hypothesis: true correlation is not equal to 0\n",
       "95 percent confidence interval:\n",
       " 0.6514214 0.8799503\n",
       "sample estimates:\n",
       "      cor \n",
       "0.7919556 \n"
      ]
     },
     "metadata": {},
     "output_type": "display_data"
    }
   ],
   "source": [
    "#H0: ρ=0\n",
    "#H1: ρ≠0\n",
    "cor.test(dl, ul)\n",
    "cor.test(data[data$org=='Airtel',]$dl, data[data$org=='Airtel',]$ul)\n",
    "cor.test(data[data$org=='Jio',]$dl, data[data$org=='Jio',]$ul)\n",
    "cor.test(data[data$org=='Excitel',]$dl, data[data$org=='Excitel',]$ul)\n",
    "cor.test(data[data$org=='Den',]$dl, data[data$org=='Den',]$ul)\n",
    "cor.test(data[data$org=='Hathway',]$dl, data[data$org=='Hathway',]$ul)\n",
    "cor.test(data[data$org=='Other',]$dl, data[data$org=='Other',]$ul)"
   ]
  },
  {
   "cell_type": "markdown",
   "metadata": {},
   "source": [
    "### Key Observations\n",
    "\n",
    "- The result of above correlation tests are as follows:\n",
    "\n",
    "- The p-value of the correlation test between download and upload speed of airtel broadband connection is 2.2e-16. At the 5% significance level, we reject the null hypothesis of no correlation. We therefore conclude that there exists a relationship between the two variables.\n",
    "\n",
    "- In fact, except Den and Hathway, for other ISPs a higher download speed also gurantees higher upload speed.\n",
    "- However going by the result of first test,it may be concluded in general higher download speed also promises higher upload speed."
   ]
  },
  {
   "cell_type": "markdown",
   "metadata": {},
   "source": [
    "# Inferential Statistics"
   ]
  },
  {
   "cell_type": "markdown",
   "metadata": {},
   "source": [
    "## Objectives:\n",
    "\n",
    "1. What is the average download and upload speed expereinced by users in Delhi?\n",
    "2. How does performance of ISPs deviates from advertised speeds?\n",
    "3. To identify if there is any significant differenece between performances of various ISPs (as percieved by users)\n",
    "4. What is the estimated propotion of users of each ISP in the population?\n",
    "5. What is the contribution of hour of the day to the variation observed in download and upload speeds?"
   ]
  },
  {
   "cell_type": "markdown",
   "metadata": {},
   "source": [
    "### Preliminary Investigation"
   ]
  },
  {
   "cell_type": "markdown",
   "metadata": {},
   "source": [
    "##### Normality Test\n",
    "A normality test is used to determine whether sample data has been drawn from a normally distributed population (within some tolerance). A number of statistical tests, such as the Student's t-test and the one-way and two-way ANOVA require a normally distributed sample population. If the assumption of normality is not valid, the results of the tests will be unreliable. We should perform some preleminary tests to make sure that the test assumptions are met. In the situations where the assumptions are violated, non-paramatric tests are recommended.\n",
    "\n",
    "If the sample size is large enough (n > 30), we can ignore the distribution of the data and use parametric tests.\n",
    "\n",
    "However, from the summary statistics results we know that our sample size is not large enough for \n",
    "a. Hathway\n",
    "b. Jio\n",
    "c. Den\n",
    "\n",
    "So a normality test is required to be performed. "
   ]
  },
  {
   "cell_type": "markdown",
   "metadata": {},
   "source": [
    "### Q-Q Plot"
   ]
  },
  {
   "cell_type": "code",
   "execution_count": 355,
   "metadata": {
    "scrolled": false
   },
   "outputs": [
    {
     "data": {
      "text/html": [
       "<style>\n",
       ".list-inline {list-style: none; margin:0; padding: 0}\n",
       ".list-inline>li {display: inline-block}\n",
       ".list-inline>li:not(:last-child)::after {content: \"\\00b7\"; padding: 0 .5ex}\n",
       "</style>\n",
       "<ol class=list-inline><li>43</li><li>30</li></ol>\n"
      ],
      "text/latex": [
       "\\begin{enumerate*}\n",
       "\\item 43\n",
       "\\item 30\n",
       "\\end{enumerate*}\n"
      ],
      "text/markdown": [
       "1. 43\n",
       "2. 30\n",
       "\n",
       "\n"
      ],
      "text/plain": [
       "[1] 43 30"
      ]
     },
     "metadata": {},
     "output_type": "display_data"
    },
    {
     "data": {
      "image/png": "[encoded data removed]",
      "text/plain": [
       "plot without title"
      ]
     },
     "metadata": {
      "image/png": {
       "height": 420,
       "width": 420
      }
     },
     "output_type": "display_data"
    }
   ],
   "source": [
    "qqPlot(dl)"
   ]
  },
  {
   "cell_type": "markdown",
   "metadata": {},
   "source": [
    "### Key Observation\n",
    "- Preliminary visual inspection suggests that download speeds in general do not follow guassian distribution. \n",
    "- Data points in the range of higher bandwidths deviates from normal in some cases (See Q-Q plots below)"
   ]
  },
  {
   "cell_type": "code",
   "execution_count": 286,
   "metadata": {
    "scrolled": false
   },
   "outputs": [
    {
     "data": {
      "text/html": [
       "<style>\n",
       ".list-inline {list-style: none; margin:0; padding: 0}\n",
       ".list-inline>li {display: inline-block}\n",
       ".list-inline>li:not(:last-child)::after {content: \"\\00b7\"; padding: 0 .5ex}\n",
       "</style>\n",
       "<ol class=list-inline><li>16</li><li>18</li></ol>\n"
      ],
      "text/latex": [
       "\\begin{enumerate*}\n",
       "\\item 16\n",
       "\\item 18\n",
       "\\end{enumerate*}\n"
      ],
      "text/markdown": [
       "1. 16\n",
       "2. 18\n",
       "\n",
       "\n"
      ],
      "text/plain": [
       "[1] 16 18"
      ]
     },
     "metadata": {},
     "output_type": "display_data"
    },
    {
     "data": {
      "image/png": "[encoded data removed]",
      "text/plain": [
       "plot without title"
      ]
     },
     "metadata": {
      "image/png": {
       "height": 420,
       "width": 420
      }
     },
     "output_type": "display_data"
    },
    {
     "data": {
      "text/html": [
       "<style>\n",
       ".list-inline {list-style: none; margin:0; padding: 0}\n",
       ".list-inline>li {display: inline-block}\n",
       ".list-inline>li:not(:last-child)::after {content: \"\\00b7\"; padding: 0 .5ex}\n",
       "</style>\n",
       "<ol class=list-inline><li>79</li><li>77</li></ol>\n"
      ],
      "text/latex": [
       "\\begin{enumerate*}\n",
       "\\item 79\n",
       "\\item 77\n",
       "\\end{enumerate*}\n"
      ],
      "text/markdown": [
       "1. 79\n",
       "2. 77\n",
       "\n",
       "\n"
      ],
      "text/plain": [
       "[1] 79 77"
      ]
     },
     "metadata": {},
     "output_type": "display_data"
    },
    {
     "data": {
      "image/png": "[encoded data removed]",
      "text/plain": [
       "plot without title"
      ]
     },
     "metadata": {
      "image/png": {
       "height": 420,
       "width": 420
      }
     },
     "output_type": "display_data"
    },
    {
     "data": {
      "text/html": [
       "<style>\n",
       ".list-inline {list-style: none; margin:0; padding: 0}\n",
       ".list-inline>li {display: inline-block}\n",
       ".list-inline>li:not(:last-child)::after {content: \"\\00b7\"; padding: 0 .5ex}\n",
       "</style>\n",
       "<ol class=list-inline><li>21</li><li>34</li></ol>\n"
      ],
      "text/latex": [
       "\\begin{enumerate*}\n",
       "\\item 21\n",
       "\\item 34\n",
       "\\end{enumerate*}\n"
      ],
      "text/markdown": [
       "1. 21\n",
       "2. 34\n",
       "\n",
       "\n"
      ],
      "text/plain": [
       "[1] 21 34"
      ]
     },
     "metadata": {},
     "output_type": "display_data"
    },
    {
     "data": {
      "image/png": "[encoded data removed]",
      "text/plain": [
       "plot without title"
      ]
     },
     "metadata": {
      "image/png": {
       "height": 420,
       "width": 420
      }
     },
     "output_type": "display_data"
    }
   ],
   "source": [
    "qqPlot(data[data$org=='Excitel',]$dl)\n",
    "qqPlot(data[data$org=='Airtel',]$dl)\n",
    "qqPlot(data[data$org=='Other',]$dl)"
   ]
  },
  {
   "cell_type": "markdown",
   "metadata": {},
   "source": [
    "## Shapiro-Wilk’s test for Normality"
   ]
  },
  {
   "cell_type": "code",
   "execution_count": 287,
   "metadata": {
    "scrolled": false
   },
   "outputs": [
    {
     "data": {
      "text/plain": [
       "\n",
       "\tShapiro-Wilk normality test\n",
       "\n",
       "data:  data[data$org == \"Jio\", ]$dl\n",
       "W = 0.83795, p-value = 0.001049\n"
      ]
     },
     "metadata": {},
     "output_type": "display_data"
    },
    {
     "data": {
      "text/plain": [
       "\n",
       "\tShapiro-Wilk normality test\n",
       "\n",
       "data:  data[data$org == \"Hathway\", ]$dl\n",
       "W = 0.85045, p-value = 0.02253\n"
      ]
     },
     "metadata": {},
     "output_type": "display_data"
    },
    {
     "data": {
      "text/plain": [
       "\n",
       "\tShapiro-Wilk normality test\n",
       "\n",
       "data:  data[data$org == \"Den\", ]$dl\n",
       "W = 0.92593, p-value = 0.5707\n"
      ]
     },
     "metadata": {},
     "output_type": "display_data"
    },
    {
     "data": {
      "text/plain": [
       "\n",
       "\tShapiro-Wilk normality test\n",
       "\n",
       "data:  data[data$org == \"Jio\", ]$ul\n",
       "W = 0.8765, p-value = 0.005856\n"
      ]
     },
     "metadata": {},
     "output_type": "display_data"
    },
    {
     "data": {
      "text/plain": [
       "\n",
       "\tShapiro-Wilk normality test\n",
       "\n",
       "data:  data[data$org == \"Hathway\", ]$ul\n",
       "W = 0.55893, p-value = 1.787e-05\n"
      ]
     },
     "metadata": {},
     "output_type": "display_data"
    },
    {
     "data": {
      "text/plain": [
       "\n",
       "\tShapiro-Wilk normality test\n",
       "\n",
       "data:  data[data$org == \"Den\", ]$ul\n",
       "W = 0.97661, p-value = 0.8819\n"
      ]
     },
     "metadata": {},
     "output_type": "display_data"
    }
   ],
   "source": [
    "#Download Speeds\n",
    "shapiro.test(data[data$org=='Jio',]$dl)\n",
    "shapiro.test(data[data$org=='Hathway',]$dl)\n",
    "shapiro.test(data[data$org=='Den',]$dl)\n",
    "\n",
    "#Upload Speeds\n",
    "shapiro.test(data[data$org=='Jio',]$ul)\n",
    "shapiro.test(data[data$org=='Hathway',]$ul)\n",
    "shapiro.test(data[data$org=='Den',]$ul)"
   ]
  },
  {
   "cell_type": "markdown",
   "metadata": {},
   "source": [
    "### Test Interetation\n",
    "\n",
    "From the output, the p-value > 0.05 for Den implying that the distribution of the data are not significantly different from normal distribution. In other words, we can assume the normality. However for Jio and Hathway speed measurements, normality cannot be assumed."
   ]
  },
  {
   "cell_type": "markdown",
   "metadata": {},
   "source": [
    "# One Sample Student's T-Test for Airtel, Excitel and Others"
   ]
  },
  {
   "cell_type": "markdown",
   "metadata": {},
   "source": [
    "## Airtel\n",
    "\n",
    "\n",
    "##### Airtel broadband subscribers feel average download speed of their connection is less than 40 Mbps\n",
    "\n",
    "- HA: mu < 40\n",
    "- H0: mu = 40"
   ]
  },
  {
   "cell_type": "code",
   "execution_count": 288,
   "metadata": {
    "scrolled": false
   },
   "outputs": [
    {
     "data": {
      "text/plain": [
       "\n",
       "\tOne Sample t-test\n",
       "\n",
       "data:  data[data$org == \"Airtel\", ]$dl\n",
       "t = -3.2972, df = 85, p-value = 0.0007132\n",
       "alternative hypothesis: true mean is less than 40\n",
       "95 percent confidence interval:\n",
       "    -Inf 35.9111\n",
       "sample estimates:\n",
       "mean of x \n",
       " 31.75035 \n"
      ]
     },
     "metadata": {},
     "output_type": "display_data"
    }
   ],
   "source": [
    "t.test(data[data$org=='Airtel',]$dl, mu=40, alternative=\"less\", conf.level=0.95)"
   ]
  },
  {
   "cell_type": "markdown",
   "metadata": {},
   "source": [
    "### Test Result:\n",
    "\n",
    "The one-sided 95% confidence interval tells us that mean download speed is likely to be less than 35.911 Mbps\n",
    "The p-value of 0.000713 indicates strong evidence against the null hypothesis, as there is 0.071% chance that null is correct."
   ]
  },
  {
   "cell_type": "markdown",
   "metadata": {},
   "source": [
    "## Excitel\n",
    "\n",
    "\n",
    "##### Excitel broadband subscribers feel average download speed of their connection is less than 100 Mbps\n",
    "\n",
    "- HA: mu < 100\n",
    "- H0: mu = 100"
   ]
  },
  {
   "cell_type": "code",
   "execution_count": 358,
   "metadata": {
    "scrolled": false
   },
   "outputs": [
    {
     "data": {
      "text/plain": [
       "\n",
       "\tOne Sample t-test\n",
       "\n",
       "data:  data[data$org == \"Excitel\", ]$dl\n",
       "t = -2.9594, df = 61, p-value = 0.002192\n",
       "alternative hypothesis: true mean is less than 100\n",
       "95 percent confidence interval:\n",
       "    -Inf 88.1297\n",
       "sample estimates:\n",
       "mean of x \n",
       " 72.75097 \n"
      ]
     },
     "metadata": {},
     "output_type": "display_data"
    }
   ],
   "source": [
    "t.test(data[data$org=='Excitel',]$dl, mu=100, alternative=\"less\", conf.level=0.95)"
   ]
  },
  {
   "cell_type": "markdown",
   "metadata": {},
   "source": [
    "### Test Result:\n",
    "Since the p value is less than the significance level alpha (0.05), null hypothesis is rejected in the favour\n",
    "of alternative hypothesis. Confidence interval tells us that download speed is likely to be less than 88.129 Mbps."
   ]
  },
  {
   "cell_type": "markdown",
   "metadata": {},
   "source": [
    "## Others\n",
    "\n",
    "\n",
    "##### Other broadband subscribers feel average download speed of their connection is less than 40 Mbps\n",
    "\n",
    "- HA: mu < 40\n",
    "- H0: mu = 40"
   ]
  },
  {
   "cell_type": "code",
   "execution_count": 290,
   "metadata": {
    "scrolled": false
   },
   "outputs": [
    {
     "data": {
      "text/plain": [
       "\n",
       "\tOne Sample t-test\n",
       "\n",
       "data:  data[data$org == \"Other\", ]$dl\n",
       "t = -1.252, df = 45, p-value = 0.1085\n",
       "alternative hypothesis: true mean is less than 40\n",
       "95 percent confidence interval:\n",
       "     -Inf 42.05677\n",
       "sample estimates:\n",
       "mean of x \n",
       " 33.97543 \n"
      ]
     },
     "metadata": {},
     "output_type": "display_data"
    }
   ],
   "source": [
    "t.test(data[data$org=='Other',]$dl, mu=40, alternative=\"less\", conf.level=0.95)"
   ]
  },
  {
   "cell_type": "markdown",
   "metadata": {},
   "source": [
    "### Test Result:\n",
    "\n",
    "Since the p-value is not less than the significance level of 0.05, we cannot reject the null hypothesis that the downlaod speed is equal to 40Mbps. This means that there is no evidence that the download speed is less than 40 Mbps."
   ]
  },
  {
   "cell_type": "markdown",
   "metadata": {},
   "source": [
    "# Wilcoxon Signed-Rank Test - Jio, Den and Hathway"
   ]
  },
  {
   "cell_type": "markdown",
   "metadata": {},
   "source": [
    "# Jio\n",
    "\n",
    "\n",
    "##### Jio broadband subscribers feel average download speed of their connection is less than 100 Mbps\n",
    "\n",
    "- HA: mu < 100\n",
    "- H0: mu = 100"
   ]
  },
  {
   "cell_type": "code",
   "execution_count": 361,
   "metadata": {
    "scrolled": false
   },
   "outputs": [
    {
     "data": {
      "text/plain": [
       "\n",
       "\tWilcoxon signed rank test\n",
       "\n",
       "data:  data[data$org == \"Jio\", ]$dl\n",
       "V = 134, p-value = 0.2289\n",
       "alternative hypothesis: true location is less than 100\n",
       "95 percent confidence interval:\n",
       "   -Inf 116.59\n",
       "sample estimates:\n",
       "(pseudo)median \n",
       "         87.34 \n"
      ]
     },
     "metadata": {},
     "output_type": "display_data"
    }
   ],
   "source": [
    "wilcox.test(data[data$org=='Jio',]$dl, mu = 100,\n",
    "              alternative = \"less\", conf.level = 0.95,conf.int = T)"
   ]
  },
  {
   "cell_type": "markdown",
   "metadata": {},
   "source": [
    "### Test Result:\n",
    "\n",
    "Since the p-value is not less than the significance level of 0.05, we cannot reject the null hypothesis that the downlaod speed is equal to 100 Mbps. This means that there is no evidence that the download speed is less than 100 Mbps."
   ]
  },
  {
   "cell_type": "markdown",
   "metadata": {},
   "source": [
    "# Den\n",
    "\n",
    "\n",
    "##### Den broadband subscribers feel average download speed of their connection is less than 40 Mbps\n",
    "\n",
    "- HA: mu < 40\n",
    "- H0: mu = 40"
   ]
  },
  {
   "cell_type": "code",
   "execution_count": 362,
   "metadata": {
    "scrolled": false
   },
   "outputs": [
    {
     "data": {
      "text/plain": [
       "\n",
       "\tWilcoxon signed rank test\n",
       "\n",
       "data:  data[data$org == \"Den\", ]$dl\n",
       "V = 0, p-value = 0.0625\n",
       "alternative hypothesis: true location is less than 40\n",
       "95 percent confidence interval:\n",
       "  -Inf 36.15\n",
       "sample estimates:\n",
       "(pseudo)median \n",
       "        13.815 \n"
      ]
     },
     "metadata": {},
     "output_type": "display_data"
    }
   ],
   "source": [
    "wilcox.test(data[data$org=='Den',]$dl, mu = 40,\n",
    "              alternative = \"less\", conf.level = 0.95,conf.int = T)"
   ]
  },
  {
   "cell_type": "markdown",
   "metadata": {},
   "source": [
    "### Test Result:\n",
    "\n",
    "\n",
    "Since the p-value is not less than the significance level of 0.05, we cannot reject the null hypothesis that the downlaod speed is equal to 40 Mbps. This means that there is no evidence that the download speed is less than 40 Mbps."
   ]
  },
  {
   "cell_type": "markdown",
   "metadata": {},
   "source": [
    "# Hathway\n",
    "\n",
    "\n",
    "##### Hathway broadband subscribers feel average download speed of their connection is less than 40 Mbps\n",
    "\n",
    "- HA: mu < 40\n",
    "- H0: mu = 40"
   ]
  },
  {
   "cell_type": "code",
   "execution_count": 363,
   "metadata": {
    "scrolled": false
   },
   "outputs": [
    {
     "data": {
      "text/plain": [
       "\n",
       "\tWilcoxon signed rank test\n",
       "\n",
       "data:  data[data$org == \"Hathway\", ]$dl\n",
       "V = 21, p-value = 0.02472\n",
       "alternative hypothesis: true location is less than 40\n",
       "95 percent confidence interval:\n",
       "   -Inf 36.825\n",
       "sample estimates:\n",
       "(pseudo)median \n",
       "        28.245 \n"
      ]
     },
     "metadata": {},
     "output_type": "display_data"
    }
   ],
   "source": [
    "wilcox.test(data[data$org=='Hathway',]$dl, mu = 40,\n",
    "              alternative = \"less\", conf.level = 0.95,conf.int = T)"
   ]
  },
  {
   "cell_type": "markdown",
   "metadata": {},
   "source": [
    "### Test Result:\n",
    "\n",
    "Since the p-value is less than the significance level of 0.05, we reject the null hypothesis in the favour of alternative hypothesis and thuse conclude that hathway broadband subscribers feel average download speed is less than 40 Mbps"
   ]
  },
  {
   "cell_type": "markdown",
   "metadata": {},
   "source": [
    "###  Summary of Hypothesis Tests - Download Speeds"
   ]
  },
  {
   "cell_type": "markdown",
   "metadata": {},
   "source": [
    "![title](donwload_conf.png)"
   ]
  },
  {
   "cell_type": "markdown",
   "metadata": {},
   "source": [
    "# Upload Speed Analysis"
   ]
  },
  {
   "cell_type": "markdown",
   "metadata": {},
   "source": [
    "# Preliminary Investigation"
   ]
  },
  {
   "cell_type": "code",
   "execution_count": 295,
   "metadata": {
    "scrolled": false
   },
   "outputs": [
    {
     "data": {
      "text/plain": [
       "   Min. 1st Qu.  Median    Mean 3rd Qu.    Max. \n",
       "   0.00    5.77   11.98   32.04   53.09  170.56 "
      ]
     },
     "metadata": {},
     "output_type": "display_data"
    },
    {
     "data": {
      "text/html": [
       "37.5852859791438"
      ],
      "text/latex": [
       "37.5852859791438"
      ],
      "text/markdown": [
       "37.5852859791438"
      ],
      "text/plain": [
       "[1] 37.58529"
      ]
     },
     "metadata": {},
     "output_type": "display_data"
    },
    {
     "data": {
      "text/html": [
       "1412.65372213402"
      ],
      "text/latex": [
       "1412.65372213402"
      ],
      "text/markdown": [
       "1412.65372213402"
      ],
      "text/plain": [
       "[1] 1412.654"
      ]
     },
     "metadata": {},
     "output_type": "display_data"
    }
   ],
   "source": [
    "summary(ul) # 5 number summary\n",
    "sd(ul) # Sample Standard Deviation\n",
    "var(ul) #Sample Variance"
   ]
  },
  {
   "cell_type": "markdown",
   "metadata": {},
   "source": [
    "## Airtel\n",
    "\n",
    "##### Airtel broadband subscribers feel average upload speed of their connection is less than 20 Mbps\n",
    "\n",
    "- HA: mu < 20\n",
    "- H0: mu = 20"
   ]
  },
  {
   "cell_type": "code",
   "execution_count": 372,
   "metadata": {
    "scrolled": false
   },
   "outputs": [
    {
     "data": {
      "text/plain": [
       "\n",
       "\tOne Sample t-test\n",
       "\n",
       "data:  data[data$org == \"Airtel\", ]$ul\n",
       "t = -1.8322, df = 85, p-value = 0.03521\n",
       "alternative hypothesis: true mean is less than 20\n",
       "95 percent confidence interval:\n",
       "     -Inf 19.49457\n",
       "sample estimates:\n",
       "mean of x \n",
       " 14.52814 \n"
      ]
     },
     "metadata": {},
     "output_type": "display_data"
    }
   ],
   "source": [
    "t.test(data[data$org=='Airtel',]$ul, mu=20, alternative=\"less\", conf.level=0.95)"
   ]
  },
  {
   "cell_type": "markdown",
   "metadata": {},
   "source": [
    "### Test Result:\n",
    "\n",
    "Since the p-value is less than the significance level of 0.05, we reject the null hypothesis in the favour of alternative hypothesis and thuse conclude that Airtel broadband subscribers feel average upload speed is less than 20 Mbps"
   ]
  },
  {
   "cell_type": "markdown",
   "metadata": {},
   "source": [
    "## Excitel\n",
    "\n",
    "\n",
    "##### Excitel broadband subscribers feel average upload speed of their connection is less than 40 Mbps\n",
    "\n",
    "- HA: mu < 40\n",
    "- H0: mu = 40"
   ]
  },
  {
   "cell_type": "code",
   "execution_count": 392,
   "metadata": {
    "scrolled": false
   },
   "outputs": [
    {
     "data": {
      "text/plain": [
       "\n",
       "\tOne Sample t-test\n",
       "\n",
       "data:  data[data$org == \"Excitel\", ]$ul\n",
       "t = 2.4747, df = 61, p-value = 0.9919\n",
       "alternative hypothesis: true mean is less than 40\n",
       "95 percent confidence interval:\n",
       "     -Inf 58.09592\n",
       "sample estimates:\n",
       "mean of x \n",
       " 50.80403 \n"
      ]
     },
     "metadata": {},
     "output_type": "display_data"
    }
   ],
   "source": [
    "t.test(data[data$org=='Excitel',]$ul, mu=40, alternative=\"less\", conf.level=0.95)"
   ]
  },
  {
   "cell_type": "markdown",
   "metadata": {},
   "source": [
    "### Test Result:\n",
    "\n",
    "Since the p-value is greater than the significance level of 0.05, we cannot reject the null hypothesis. Therefore there is no evidence to support that upload speed is less than 40 Mbps."
   ]
  },
  {
   "cell_type": "markdown",
   "metadata": {},
   "source": [
    "## Others\n",
    "\n",
    "\n",
    "##### Other broadband subscribers feel average upload speed of their connection is less than 40 Mbps\n",
    "\n",
    "- HA: mu < 40\n",
    "- H0: mu = 40"
   ]
  },
  {
   "cell_type": "code",
   "execution_count": 393,
   "metadata": {
    "scrolled": false
   },
   "outputs": [
    {
     "data": {
      "text/plain": [
       "\n",
       "\tOne Sample t-test\n",
       "\n",
       "data:  data[data$org == \"Other\", ]$ul\n",
       "t = -0.73134, df = 45, p-value = 0.2342\n",
       "alternative hypothesis: true mean is less than 40\n",
       "95 percent confidence interval:\n",
       "     -Inf 44.77144\n",
       "sample estimates:\n",
       "mean of x \n",
       " 36.31935 \n"
      ]
     },
     "metadata": {},
     "output_type": "display_data"
    }
   ],
   "source": [
    "t.test(data[data$org=='Other',]$ul, mu=40, alternative=\"less\", conf.level=0.95)"
   ]
  },
  {
   "cell_type": "markdown",
   "metadata": {},
   "source": [
    "### Test Result:\n",
    "\n",
    "Since the p-value is greater than the significance level of 0.05, we cannot reject the null hypothesis. Therefore there is no evidence to support that upload speed is less than 40 Mbps."
   ]
  },
  {
   "cell_type": "markdown",
   "metadata": {},
   "source": [
    "# Wilcoxon Signed-Rank Test for Upload Speeds received by Jio, Den and Hathway users"
   ]
  },
  {
   "cell_type": "markdown",
   "metadata": {},
   "source": [
    "# Jio\n",
    "\n",
    "\n",
    "##### Jio broadband subscribers feel average upload speed of their connection is less than 80 Mbps\n",
    "\n",
    "- HA: mu < 80\n",
    "- H0: mu = 80"
   ]
  },
  {
   "cell_type": "code",
   "execution_count": 382,
   "metadata": {
    "scrolled": false
   },
   "outputs": [
    {
     "data": {
      "text/plain": [
       "\n",
       "\tWilcoxon signed rank test\n",
       "\n",
       "data:  data[data$org == \"Jio\", ]$ul\n",
       "V = 91, p-value = 0.02754\n",
       "alternative hypothesis: true location is less than 80\n",
       "95 percent confidence interval:\n",
       " -Inf 75.5\n",
       "sample estimates:\n",
       "(pseudo)median \n",
       "         49.33 \n"
      ]
     },
     "metadata": {},
     "output_type": "display_data"
    }
   ],
   "source": [
    "wilcox.test(data[data$org=='Jio',]$ul, mu = 80,\n",
    "              alternative = \"less\", conf.level = 0.95,conf.int = T)"
   ]
  },
  {
   "cell_type": "markdown",
   "metadata": {},
   "source": [
    "### Test Result:\n",
    "\n",
    "Since the p-value is less than the significance level of 0.05, we reject the null hypothesis in the favour of alternative hypothesis and thuse conclude that Jio broadband subscribers feel average upload speed is less than 80 Mbps"
   ]
  },
  {
   "cell_type": "markdown",
   "metadata": {},
   "source": [
    "# Den\n",
    "\n",
    "\n",
    "##### Den broadband subscribers feel average upload speed of their connection is less than 2 Mbps\n",
    "\n",
    "- HA: mu < 2\n",
    "- H0: mu = 2"
   ]
  },
  {
   "cell_type": "code",
   "execution_count": 389,
   "metadata": {
    "scrolled": false
   },
   "outputs": [
    {
     "data": {
      "text/plain": [
       "\n",
       "\tWilcoxon signed rank test\n",
       "\n",
       "data:  data[data$org == \"Den\", ]$ul\n",
       "V = 1, p-value = 0.125\n",
       "alternative hypothesis: true location is less than 2\n",
       "95 percent confidence interval:\n",
       " -Inf 2.12\n",
       "sample estimates:\n",
       "(pseudo)median \n",
       "         1.545 \n"
      ]
     },
     "metadata": {},
     "output_type": "display_data"
    }
   ],
   "source": [
    "wilcox.test(data[data$org=='Den',]$ul, mu = 2,\n",
    "              alternative = \"less\", conf.level = 0.95,conf.int = T)"
   ]
  },
  {
   "cell_type": "markdown",
   "metadata": {},
   "source": [
    "### Test Result:\n",
    "\n",
    "Since the p-value is greater than the significance level of 0.05, we cannot reject the null hypothesis. Therefore there is no evidence to support that upload speed is less than 2 Mbps."
   ]
  },
  {
   "cell_type": "markdown",
   "metadata": {},
   "source": [
    "# Hathway\n",
    "\n",
    "\n",
    "##### Hathway broadband subscribers feel average upload speed of their connection is less than 20 Mbps\n",
    "\n",
    "- HA: mu < 20\n",
    "- H0: mu = 20"
   ]
  },
  {
   "cell_type": "code",
   "execution_count": 391,
   "metadata": {},
   "outputs": [
    {
     "data": {
      "text/plain": [
       "\n",
       "\tWilcoxon signed rank test with continuity correction\n",
       "\n",
       "data:  data[data$org == \"Hathway\", ]$ul\n",
       "V = 14, p-value = 0.008514\n",
       "alternative hypothesis: true location is less than 10\n",
       "95 percent confidence interval:\n",
       "     -Inf 6.909948\n",
       "sample estimates:\n",
       "(pseudo)median \n",
       "      5.619953 \n"
      ]
     },
     "metadata": {},
     "output_type": "display_data"
    }
   ],
   "source": [
    "wilcox.test(data[data$org=='Hathway',]$ul, mu = 10,\n",
    "              alternative = \"less\", conf.level = 0.95,conf.int = T)"
   ]
  },
  {
   "cell_type": "markdown",
   "metadata": {},
   "source": [
    "### Test Result:\n",
    "\n",
    "Since the p-value is less than the significance level of 0.05, we reject the null hypothesis in the favour of alternative hypothesis and thuse conclude that Hathway broadband subscribers feel average upload speed is less than 10 Mbps"
   ]
  },
  {
   "cell_type": "markdown",
   "metadata": {},
   "source": [
    "###  Summary of Hypothesis Tests - Upload Speeds\n",
    "\n",
    "![title](upload_test.png)"
   ]
  },
  {
   "cell_type": "markdown",
   "metadata": {},
   "source": [
    "## Test for Assumptions of ANOVA"
   ]
  },
  {
   "cell_type": "markdown",
   "metadata": {},
   "source": [
    "### Bartlett test of homogeneity of variances"
   ]
  },
  {
   "cell_type": "code",
   "execution_count": 394,
   "metadata": {
    "scrolled": false
   },
   "outputs": [
    {
     "data": {
      "text/plain": [
       "\n",
       "\tBartlett test of homogeneity of variances\n",
       "\n",
       "data:  dl by org\n",
       "Bartlett's K-squared = 132.96, df = 5, p-value < 2.2e-16\n"
      ]
     },
     "metadata": {},
     "output_type": "display_data"
    }
   ],
   "source": [
    "# H0: Variance is same for all treatment groups\n",
    "# HA: Variance is not same\n",
    "\n",
    "bartlett.test(dl ~ org)"
   ]
  },
  {
   "cell_type": "markdown",
   "metadata": {},
   "source": [
    "##### Test Result \n",
    "\n",
    "From the output we can see that the p-value of 2.2e-16 is less than the significance level of 0.05. This means we must reject the null hypothesis that the variance is the same for all treatment groups in favour of the alternative.  That means assumption of equal variances between treatments does not hold, and hence anova cannot be performed."
   ]
  },
  {
   "cell_type": "markdown",
   "metadata": {},
   "source": [
    "# Kruskal-Wallis test \n",
    "\n",
    "\n",
    "Kruskal-Wallis test by rank is a non-parametric alternative to one-way ANOVA test, which extends the two-samples Wilcoxon test in the situation where there are more than two groups. It’s recommended when the assumptions of one-way ANOVA test are not met."
   ]
  },
  {
   "cell_type": "code",
   "execution_count": 306,
   "metadata": {
    "scrolled": false
   },
   "outputs": [
    {
     "data": {
      "text/plain": [
       "\n",
       "\tKruskal-Wallis rank sum test\n",
       "\n",
       "data:  dl by org\n",
       "Kruskal-Wallis chi-squared = 34.693, df = 5, p-value = 1.733e-06\n"
      ]
     },
     "metadata": {},
     "output_type": "display_data"
    },
    {
     "data": {
      "text/plain": [
       "\n",
       "\tKruskal-Wallis rank sum test\n",
       "\n",
       "data:  ul by org\n",
       "Kruskal-Wallis chi-squared = 83.576, df = 5, p-value < 2.2e-16\n"
      ]
     },
     "metadata": {},
     "output_type": "display_data"
    }
   ],
   "source": [
    "kruskal.test(dl ~ org, data = data)\n",
    "kruskal.test(ul ~ org, data = data)"
   ]
  },
  {
   "cell_type": "markdown",
   "metadata": {},
   "source": [
    "#### Test Interpretation:\n",
    "\n",
    "As the p-value is less than the significance level 0.05, we can conclude that there are significant differences between the download and upload speeds"
   ]
  },
  {
   "cell_type": "markdown",
   "metadata": {},
   "source": [
    "## Multiple pairwise-comparison between ISPs"
   ]
  },
  {
   "cell_type": "code",
   "execution_count": 307,
   "metadata": {
    "scrolled": false
   },
   "outputs": [
    {
     "data": {
      "text/plain": [
       "\n",
       "\tPairwise comparisons using Wilcoxon rank sum test \n",
       "\n",
       "data:  dl and org \n",
       "\n",
       "        Airtel  Den     Excitel Hathway Jio    \n",
       "Den     0.13920 -       -       -       -      \n",
       "Excitel 0.00226 0.05158 -       -       -      \n",
       "Hathway 0.98811 0.13920 0.05158 -       -      \n",
       "Jio     0.00014 0.02547 0.09183 0.00327 -      \n",
       "Other   0.59008 0.30157 0.00343 0.65353 0.00063\n",
       "\n",
       "P value adjustment method: BH "
      ]
     },
     "metadata": {},
     "output_type": "display_data"
    }
   ],
   "source": [
    "pairwise.wilcox.test(dl, org,\n",
    "                 p.adjust.method = \"BH\")"
   ]
  },
  {
   "cell_type": "markdown",
   "metadata": {},
   "source": [
    "The pairwise comparison shows that following pairs of ISPs are significantly differenet in terms\n",
    "of download speeds:\n",
    "\n",
    "\n",
    "- Airtel and Excitel\n",
    "- Airtel and Jio\n",
    "- Jio and Den\n",
    "- Jio and Hathway\n",
    "- Excitel and Others\n",
    "- Jio and Others\n",
    "\n",
    "\n",
    "And following are similar:\n",
    "\n",
    "- Airtel and Den\n",
    "- Excitel and Den\n",
    "- Airtel and Hathway\n",
    "- Hathway and Den\n",
    "- Hathway and Excitel\n",
    "- Airtel and Others\n",
    "- Den and Others\n",
    "- Excitel and Jio\n",
    "- Hathway and Others\n"
   ]
  },
  {
   "cell_type": "code",
   "execution_count": 396,
   "metadata": {
    "scrolled": false
   },
   "outputs": [
    {
     "data": {
      "text/plain": [
       "\n",
       "\tPairwise comparisons using Wilcoxon rank sum test \n",
       "\n",
       "data:  ul and org \n",
       "\n",
       "        Airtel  Den     Excitel Hathway Jio    \n",
       "Den     0.01327 -       -       -       -      \n",
       "Excitel 1.0e-11 0.00248 -       -       -      \n",
       "Hathway 0.15268 0.01011 1.5e-05 -       -      \n",
       "Jio     5.5e-05 0.00533 0.99626 0.00145 -      \n",
       "Other   9.4e-08 0.00175 0.01271 0.00028 0.23514\n",
       "\n",
       "P value adjustment method: BH "
      ]
     },
     "metadata": {},
     "output_type": "display_data"
    }
   ],
   "source": [
    "pairwise.wilcox.test(ul, org,\n",
    "                 p.adjust.method = \"BH\")"
   ]
  },
  {
   "cell_type": "markdown",
   "metadata": {},
   "source": [
    "In terms of upload speed, speeds are felt similar among following pairs of broadbands:\n",
    "\n",
    "- Airtel and Hathway\n",
    "- Jio and Excitel\n",
    "- Jio and Others"
   ]
  },
  {
   "cell_type": "markdown",
   "metadata": {},
   "source": [
    "# ISP Preferences Analysis"
   ]
  },
  {
   "cell_type": "markdown",
   "metadata": {},
   "source": [
    "Following frequency table depicts the ISP preferences of responders who volunteered to share the speed test results. We wish to test the null hypothesis that all 6 ISPs are equally preferred, or equivalently 1/6 of the responders preferred each ISP"
   ]
  },
  {
   "cell_type": "code",
   "execution_count": 341,
   "metadata": {
    "scrolled": false
   },
   "outputs": [
    {
     "data": {
      "text/html": [
       "<table>\n",
       "<caption>A data.frame: 6 × 2</caption>\n",
       "<thead>\n",
       "\t<tr><th scope=col>x$`data$org`</th><th scope=col>n</th></tr>\n",
       "\t<tr><th scope=col>&lt;fct&gt;</th><th scope=col>&lt;int&gt;</th></tr>\n",
       "</thead>\n",
       "<tbody>\n",
       "\t<tr><td>Airtel </td><td>38</td></tr>\n",
       "\t<tr><td>Den    </td><td> 4</td></tr>\n",
       "\t<tr><td>Excitel</td><td>29</td></tr>\n",
       "\t<tr><td>Hathway</td><td> 6</td></tr>\n",
       "\t<tr><td>Jio    </td><td>15</td></tr>\n",
       "\t<tr><td>Other  </td><td>30</td></tr>\n",
       "</tbody>\n",
       "</table>\n"
      ],
      "text/latex": [
       "A data.frame: 6 × 2\n",
       "\\begin{tabular}{ll}\n",
       " x\\$`data\\$org` & n\\\\\n",
       " <fct> & <int>\\\\\n",
       "\\hline\n",
       "\t Airtel  & 38\\\\\n",
       "\t Den     &  4\\\\\n",
       "\t Excitel & 29\\\\\n",
       "\t Hathway &  6\\\\\n",
       "\t Jio     & 15\\\\\n",
       "\t Other   & 30\\\\\n",
       "\\end{tabular}\n"
      ],
      "text/markdown": [
       "\n",
       "A data.frame: 6 × 2\n",
       "\n",
       "| x$`data$org` &lt;fct&gt; | n &lt;int&gt; |\n",
       "|---|---|\n",
       "| Airtel  | 38 |\n",
       "| Den     |  4 |\n",
       "| Excitel | 29 |\n",
       "| Hathway |  6 |\n",
       "| Jio     | 15 |\n",
       "| Other   | 30 |\n",
       "\n"
      ],
      "text/plain": [
       "  x$`data$org` n \n",
       "1 Airtel       38\n",
       "2 Den           4\n",
       "3 Excitel      29\n",
       "4 Hathway       6\n",
       "5 Jio          15\n",
       "6 Other        30"
      ]
     },
     "metadata": {},
     "output_type": "display_data"
    }
   ],
   "source": [
    "x=data %>%count(data$ip, data$org)\n",
    "count(x, x$`data$org`)"
   ]
  },
  {
   "cell_type": "markdown",
   "metadata": {},
   "source": [
    "## Chi-squared test"
   ]
  },
  {
   "cell_type": "code",
   "execution_count": 343,
   "metadata": {
    "scrolled": false
   },
   "outputs": [
    {
     "data": {
      "text/plain": [
       "\n",
       "\tChi-squared test for given probabilities\n",
       "\n",
       "data:  obsfreq\n",
       "X-squared = 48.262, df = 5, p-value = 3.14e-09\n"
      ]
     },
     "metadata": {},
     "output_type": "display_data"
    }
   ],
   "source": [
    "# All ISPs\n",
    "obsfreq <- c(38,4,29,6,15,30)\n",
    "nullprobs <- c(1/6,1/6,1/6,1/6,1/6,1/6)\n",
    "chisq.test(obsfreq,p=nullprobs)"
   ]
  },
  {
   "cell_type": "code",
   "execution_count": 342,
   "metadata": {
    "scrolled": false
   },
   "outputs": [
    {
     "data": {
      "text/plain": [
       "\n",
       "\tChi-squared test for given probabilities\n",
       "\n",
       "data:  obsfreq\n",
       "X-squared = 1.5052, df = 2, p-value = 0.4712\n"
      ]
     },
     "metadata": {},
     "output_type": "display_data"
    }
   ],
   "source": [
    "# Airtel, Excitel and Other\n",
    "obsfreq <- c(38,29,30)\n",
    "nullprobs <- c(1/3,1/3,1/3)\n",
    "chisq.test(obsfreq,p=nullprobs)"
   ]
  },
  {
   "cell_type": "markdown",
   "metadata": {},
   "source": [
    "#### Chi Square Test Results:\n",
    "\n",
    "- All ISPs are NOT equally liked by the population\n",
    "- Airtel, Excitel and Other local ISPs are equally preferred."
   ]
  },
  {
   "cell_type": "markdown",
   "metadata": {},
   "source": [
    "## Hour of Day and Broadband Performance"
   ]
  },
  {
   "cell_type": "code",
   "execution_count": 395,
   "metadata": {},
   "outputs": [
    {
     "data": {
      "text/plain": [
       "\n",
       "\tPairwise comparisons using Wilcoxon rank sum test \n",
       "\n",
       "data:  dl and hour \n",
       "\n",
       "   0     2     4     5     6     7     8     9     10    11    12    13   \n",
       "2  0.999 -     -     -     -     -     -     -     -     -     -     -    \n",
       "4  0.938 1.000 -     -     -     -     -     -     -     -     -     -    \n",
       "5  0.938 1.000 0.997 -     -     -     -     -     -     -     -     -    \n",
       "6  0.763 0.968 0.673 0.763 -     -     -     -     -     -     -     -    \n",
       "7  0.787 0.969 0.938 0.969 0.691 -     -     -     -     -     -     -    \n",
       "8  0.950 1.000 0.947 0.969 0.673 0.763 -     -     -     -     -     -    \n",
       "9  0.763 1.000 0.923 0.923 0.763 1.000 0.763 -     -     -     -     -    \n",
       "10 0.923 0.974 0.950 0.923 0.763 1.000 0.787 0.969 -     -     -     -    \n",
       "11 0.974 0.950 0.974 1.000 0.691 0.969 1.000 0.923 0.923 -     -     -    \n",
       "12 0.974 0.938 0.969 0.997 0.763 0.923 0.999 0.923 0.944 1.000 -     -    \n",
       "13 0.923 0.944 0.874 0.950 0.360 0.691 0.969 0.691 0.691 1.000 0.999 -    \n",
       "14 1.000 0.763 0.350 0.763 0.091 0.091 0.691 0.133 0.320 0.923 0.763 0.763\n",
       "15 0.923 0.974 0.969 0.974 0.763 1.000 0.950 0.974 0.974 0.950 0.950 0.923\n",
       "16 0.763 0.950 0.763 0.923 0.974 0.763 0.691 0.944 0.923 0.763 0.745 0.360\n",
       "17 0.938 0.950 0.923 0.950 0.974 0.938 0.763 0.997 0.950 0.923 0.763 0.763\n",
       "18 0.923 1.000 0.969 0.963 0.923 1.000 0.923 1.000 1.000 0.944 0.763 0.691\n",
       "19 0.763 1.000 0.950 0.950 0.763 1.000 0.691 1.000 0.969 0.938 0.938 0.673\n",
       "20 0.950 1.000 0.923 0.950 1.000 1.000 0.974 0.950 0.923 0.923 0.923 0.763\n",
       "21 0.938 1.000 0.673 0.691 0.974 0.763 0.763 0.938 0.739 0.673 0.936 0.763\n",
       "   14    15    16    17    18    19    20   \n",
       "2  -     -     -     -     -     -     -    \n",
       "4  -     -     -     -     -     -     -    \n",
       "5  -     -     -     -     -     -     -    \n",
       "6  -     -     -     -     -     -     -    \n",
       "7  -     -     -     -     -     -     -    \n",
       "8  -     -     -     -     -     -     -    \n",
       "9  -     -     -     -     -     -     -    \n",
       "10 -     -     -     -     -     -     -    \n",
       "11 -     -     -     -     -     -     -    \n",
       "12 -     -     -     -     -     -     -    \n",
       "13 -     -     -     -     -     -     -    \n",
       "14 -     -     -     -     -     -     -    \n",
       "15 0.350 -     -     -     -     -     -    \n",
       "16 0.091 0.763 -     -     -     -     -    \n",
       "17 0.345 0.923 0.993 -     -     -     -    \n",
       "18 0.207 0.950 0.938 0.950 -     -     -    \n",
       "19 0.133 1.000 0.923 0.938 0.969 -     -    \n",
       "20 0.673 0.923 1.000 0.968 1.000 1.000 -    \n",
       "21 0.343 0.787 0.969 0.969 0.950 0.673 0.969\n",
       "\n",
       "P value adjustment method: BH "
      ]
     },
     "metadata": {},
     "output_type": "display_data"
    }
   ],
   "source": [
    "pairwise.wilcox.test(dl, hour,\n",
    "                 p.adjust.method = \"BH\")"
   ]
  },
  {
   "cell_type": "markdown",
   "metadata": {},
   "source": [
    "### Test Result\n",
    "\n",
    "- Broadband performance is indpendent of the hour of day for any given day."
   ]
  },
  {
   "cell_type": "markdown",
   "metadata": {},
   "source": [
    "## Up Next\n",
    "\n",
    "- Predictive Model\n",
    "- Executive Summary and Conclusion"
   ]
  }
 ],
 "metadata": {
  "kernelspec": {
   "display_name": "R 3.2",
   "language": "R",
   "name": "ir32"
  },
  "language_info": {
   "codemirror_mode": "r",
   "file_extension": ".r",
   "mimetype": "text/x-r-source",
   "name": "R",
   "pygments_lexer": "r",
   "version": "3.6.3"
  }
 },
 "nbformat": 4,
 "nbformat_minor": 4
}
